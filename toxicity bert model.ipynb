{
  "nbformat": 4,
  "nbformat_minor": 0,
  "metadata": {
    "colab": {
      "provenance": [],
      "gpuType": "T4"
    },
    "kernelspec": {
      "name": "python3",
      "display_name": "Python 3"
    },
    "language_info": {
      "name": "python"
    },
    "accelerator": "GPU",
    "widgets": {
      "application/vnd.jupyter.widget-state+json": {
        "d9e2626df05640b293d495d13e428bcc": {
          "model_module": "@jupyter-widgets/controls",
          "model_name": "HBoxModel",
          "model_module_version": "1.5.0",
          "state": {
            "_dom_classes": [],
            "_model_module": "@jupyter-widgets/controls",
            "_model_module_version": "1.5.0",
            "_model_name": "HBoxModel",
            "_view_count": null,
            "_view_module": "@jupyter-widgets/controls",
            "_view_module_version": "1.5.0",
            "_view_name": "HBoxView",
            "box_style": "",
            "children": [
              "IPY_MODEL_f231efd3d7ea47678ac07de5fb366bf4",
              "IPY_MODEL_0a925374b1b1404fb26e2d80ed59479f",
              "IPY_MODEL_ab56d21f178945b9a4b979891fddaa5c"
            ],
            "layout": "IPY_MODEL_22350dc9b19a425d9a138e686b9701a3"
          }
        },
        "f231efd3d7ea47678ac07de5fb366bf4": {
          "model_module": "@jupyter-widgets/controls",
          "model_name": "HTMLModel",
          "model_module_version": "1.5.0",
          "state": {
            "_dom_classes": [],
            "_model_module": "@jupyter-widgets/controls",
            "_model_module_version": "1.5.0",
            "_model_name": "HTMLModel",
            "_view_count": null,
            "_view_module": "@jupyter-widgets/controls",
            "_view_module_version": "1.5.0",
            "_view_name": "HTMLView",
            "description": "",
            "description_tooltip": null,
            "layout": "IPY_MODEL_eec3835ce9264f11a8d365ed45134629",
            "placeholder": "​",
            "style": "IPY_MODEL_c8de69516daa48f68fb7064e7339433c",
            "value": "Map: 100%"
          }
        },
        "0a925374b1b1404fb26e2d80ed59479f": {
          "model_module": "@jupyter-widgets/controls",
          "model_name": "FloatProgressModel",
          "model_module_version": "1.5.0",
          "state": {
            "_dom_classes": [],
            "_model_module": "@jupyter-widgets/controls",
            "_model_module_version": "1.5.0",
            "_model_name": "FloatProgressModel",
            "_view_count": null,
            "_view_module": "@jupyter-widgets/controls",
            "_view_module_version": "1.5.0",
            "_view_name": "ProgressView",
            "bar_style": "success",
            "description": "",
            "description_tooltip": null,
            "layout": "IPY_MODEL_a5b7b5d111e1485ca3733237e06339fb",
            "max": 7979,
            "min": 0,
            "orientation": "horizontal",
            "style": "IPY_MODEL_92c5d64010fe4248a5429736993ab2ba",
            "value": 7979
          }
        },
        "ab56d21f178945b9a4b979891fddaa5c": {
          "model_module": "@jupyter-widgets/controls",
          "model_name": "HTMLModel",
          "model_module_version": "1.5.0",
          "state": {
            "_dom_classes": [],
            "_model_module": "@jupyter-widgets/controls",
            "_model_module_version": "1.5.0",
            "_model_name": "HTMLModel",
            "_view_count": null,
            "_view_module": "@jupyter-widgets/controls",
            "_view_module_version": "1.5.0",
            "_view_name": "HTMLView",
            "description": "",
            "description_tooltip": null,
            "layout": "IPY_MODEL_d07b031f68d9467ebfca5197932738d4",
            "placeholder": "​",
            "style": "IPY_MODEL_79d6d461e6b547d082d87629c93ca64e",
            "value": " 7979/7979 [00:11&lt;00:00, 956.49 examples/s]"
          }
        },
        "22350dc9b19a425d9a138e686b9701a3": {
          "model_module": "@jupyter-widgets/base",
          "model_name": "LayoutModel",
          "model_module_version": "1.2.0",
          "state": {
            "_model_module": "@jupyter-widgets/base",
            "_model_module_version": "1.2.0",
            "_model_name": "LayoutModel",
            "_view_count": null,
            "_view_module": "@jupyter-widgets/base",
            "_view_module_version": "1.2.0",
            "_view_name": "LayoutView",
            "align_content": null,
            "align_items": null,
            "align_self": null,
            "border": null,
            "bottom": null,
            "display": null,
            "flex": null,
            "flex_flow": null,
            "grid_area": null,
            "grid_auto_columns": null,
            "grid_auto_flow": null,
            "grid_auto_rows": null,
            "grid_column": null,
            "grid_gap": null,
            "grid_row": null,
            "grid_template_areas": null,
            "grid_template_columns": null,
            "grid_template_rows": null,
            "height": null,
            "justify_content": null,
            "justify_items": null,
            "left": null,
            "margin": null,
            "max_height": null,
            "max_width": null,
            "min_height": null,
            "min_width": null,
            "object_fit": null,
            "object_position": null,
            "order": null,
            "overflow": null,
            "overflow_x": null,
            "overflow_y": null,
            "padding": null,
            "right": null,
            "top": null,
            "visibility": null,
            "width": null
          }
        },
        "eec3835ce9264f11a8d365ed45134629": {
          "model_module": "@jupyter-widgets/base",
          "model_name": "LayoutModel",
          "model_module_version": "1.2.0",
          "state": {
            "_model_module": "@jupyter-widgets/base",
            "_model_module_version": "1.2.0",
            "_model_name": "LayoutModel",
            "_view_count": null,
            "_view_module": "@jupyter-widgets/base",
            "_view_module_version": "1.2.0",
            "_view_name": "LayoutView",
            "align_content": null,
            "align_items": null,
            "align_self": null,
            "border": null,
            "bottom": null,
            "display": null,
            "flex": null,
            "flex_flow": null,
            "grid_area": null,
            "grid_auto_columns": null,
            "grid_auto_flow": null,
            "grid_auto_rows": null,
            "grid_column": null,
            "grid_gap": null,
            "grid_row": null,
            "grid_template_areas": null,
            "grid_template_columns": null,
            "grid_template_rows": null,
            "height": null,
            "justify_content": null,
            "justify_items": null,
            "left": null,
            "margin": null,
            "max_height": null,
            "max_width": null,
            "min_height": null,
            "min_width": null,
            "object_fit": null,
            "object_position": null,
            "order": null,
            "overflow": null,
            "overflow_x": null,
            "overflow_y": null,
            "padding": null,
            "right": null,
            "top": null,
            "visibility": null,
            "width": null
          }
        },
        "c8de69516daa48f68fb7064e7339433c": {
          "model_module": "@jupyter-widgets/controls",
          "model_name": "DescriptionStyleModel",
          "model_module_version": "1.5.0",
          "state": {
            "_model_module": "@jupyter-widgets/controls",
            "_model_module_version": "1.5.0",
            "_model_name": "DescriptionStyleModel",
            "_view_count": null,
            "_view_module": "@jupyter-widgets/base",
            "_view_module_version": "1.2.0",
            "_view_name": "StyleView",
            "description_width": ""
          }
        },
        "a5b7b5d111e1485ca3733237e06339fb": {
          "model_module": "@jupyter-widgets/base",
          "model_name": "LayoutModel",
          "model_module_version": "1.2.0",
          "state": {
            "_model_module": "@jupyter-widgets/base",
            "_model_module_version": "1.2.0",
            "_model_name": "LayoutModel",
            "_view_count": null,
            "_view_module": "@jupyter-widgets/base",
            "_view_module_version": "1.2.0",
            "_view_name": "LayoutView",
            "align_content": null,
            "align_items": null,
            "align_self": null,
            "border": null,
            "bottom": null,
            "display": null,
            "flex": null,
            "flex_flow": null,
            "grid_area": null,
            "grid_auto_columns": null,
            "grid_auto_flow": null,
            "grid_auto_rows": null,
            "grid_column": null,
            "grid_gap": null,
            "grid_row": null,
            "grid_template_areas": null,
            "grid_template_columns": null,
            "grid_template_rows": null,
            "height": null,
            "justify_content": null,
            "justify_items": null,
            "left": null,
            "margin": null,
            "max_height": null,
            "max_width": null,
            "min_height": null,
            "min_width": null,
            "object_fit": null,
            "object_position": null,
            "order": null,
            "overflow": null,
            "overflow_x": null,
            "overflow_y": null,
            "padding": null,
            "right": null,
            "top": null,
            "visibility": null,
            "width": null
          }
        },
        "92c5d64010fe4248a5429736993ab2ba": {
          "model_module": "@jupyter-widgets/controls",
          "model_name": "ProgressStyleModel",
          "model_module_version": "1.5.0",
          "state": {
            "_model_module": "@jupyter-widgets/controls",
            "_model_module_version": "1.5.0",
            "_model_name": "ProgressStyleModel",
            "_view_count": null,
            "_view_module": "@jupyter-widgets/base",
            "_view_module_version": "1.2.0",
            "_view_name": "StyleView",
            "bar_color": null,
            "description_width": ""
          }
        },
        "d07b031f68d9467ebfca5197932738d4": {
          "model_module": "@jupyter-widgets/base",
          "model_name": "LayoutModel",
          "model_module_version": "1.2.0",
          "state": {
            "_model_module": "@jupyter-widgets/base",
            "_model_module_version": "1.2.0",
            "_model_name": "LayoutModel",
            "_view_count": null,
            "_view_module": "@jupyter-widgets/base",
            "_view_module_version": "1.2.0",
            "_view_name": "LayoutView",
            "align_content": null,
            "align_items": null,
            "align_self": null,
            "border": null,
            "bottom": null,
            "display": null,
            "flex": null,
            "flex_flow": null,
            "grid_area": null,
            "grid_auto_columns": null,
            "grid_auto_flow": null,
            "grid_auto_rows": null,
            "grid_column": null,
            "grid_gap": null,
            "grid_row": null,
            "grid_template_areas": null,
            "grid_template_columns": null,
            "grid_template_rows": null,
            "height": null,
            "justify_content": null,
            "justify_items": null,
            "left": null,
            "margin": null,
            "max_height": null,
            "max_width": null,
            "min_height": null,
            "min_width": null,
            "object_fit": null,
            "object_position": null,
            "order": null,
            "overflow": null,
            "overflow_x": null,
            "overflow_y": null,
            "padding": null,
            "right": null,
            "top": null,
            "visibility": null,
            "width": null
          }
        },
        "79d6d461e6b547d082d87629c93ca64e": {
          "model_module": "@jupyter-widgets/controls",
          "model_name": "DescriptionStyleModel",
          "model_module_version": "1.5.0",
          "state": {
            "_model_module": "@jupyter-widgets/controls",
            "_model_module_version": "1.5.0",
            "_model_name": "DescriptionStyleModel",
            "_view_count": null,
            "_view_module": "@jupyter-widgets/base",
            "_view_module_version": "1.2.0",
            "_view_name": "StyleView",
            "description_width": ""
          }
        },
        "53b4096c1de24315a7642ff329f41d59": {
          "model_module": "@jupyter-widgets/controls",
          "model_name": "HBoxModel",
          "model_module_version": "1.5.0",
          "state": {
            "_dom_classes": [],
            "_model_module": "@jupyter-widgets/controls",
            "_model_module_version": "1.5.0",
            "_model_name": "HBoxModel",
            "_view_count": null,
            "_view_module": "@jupyter-widgets/controls",
            "_view_module_version": "1.5.0",
            "_view_name": "HBoxView",
            "box_style": "",
            "children": [
              "IPY_MODEL_168ec0d3b7e6481bb5ef677f445cb5c5",
              "IPY_MODEL_06ebb60b2e5a40a8b3cc6577a9aa88cd",
              "IPY_MODEL_64949d3c905a4c09b041e6372f3481d9"
            ],
            "layout": "IPY_MODEL_413d1541b61843fe85d6a62455c04f7c"
          }
        },
        "168ec0d3b7e6481bb5ef677f445cb5c5": {
          "model_module": "@jupyter-widgets/controls",
          "model_name": "HTMLModel",
          "model_module_version": "1.5.0",
          "state": {
            "_dom_classes": [],
            "_model_module": "@jupyter-widgets/controls",
            "_model_module_version": "1.5.0",
            "_model_name": "HTMLModel",
            "_view_count": null,
            "_view_module": "@jupyter-widgets/controls",
            "_view_module_version": "1.5.0",
            "_view_name": "HTMLView",
            "description": "",
            "description_tooltip": null,
            "layout": "IPY_MODEL_ea9d622fbaca4f188f8f18a88c3ec088",
            "placeholder": "​",
            "style": "IPY_MODEL_c675edf680314ac98e34da82fa11e018",
            "value": "epoch 1/2: 100%"
          }
        },
        "06ebb60b2e5a40a8b3cc6577a9aa88cd": {
          "model_module": "@jupyter-widgets/controls",
          "model_name": "FloatProgressModel",
          "model_module_version": "1.5.0",
          "state": {
            "_dom_classes": [],
            "_model_module": "@jupyter-widgets/controls",
            "_model_module_version": "1.5.0",
            "_model_name": "FloatProgressModel",
            "_view_count": null,
            "_view_module": "@jupyter-widgets/controls",
            "_view_module_version": "1.5.0",
            "_view_name": "ProgressView",
            "bar_style": "success",
            "description": "",
            "description_tooltip": null,
            "layout": "IPY_MODEL_ce2633423e23467190b50bcc033a9454",
            "max": 9475,
            "min": 0,
            "orientation": "horizontal",
            "style": "IPY_MODEL_61f103d2db124e71b370b6966f2e09ba",
            "value": 9475
          }
        },
        "64949d3c905a4c09b041e6372f3481d9": {
          "model_module": "@jupyter-widgets/controls",
          "model_name": "HTMLModel",
          "model_module_version": "1.5.0",
          "state": {
            "_dom_classes": [],
            "_model_module": "@jupyter-widgets/controls",
            "_model_module_version": "1.5.0",
            "_model_name": "HTMLModel",
            "_view_count": null,
            "_view_module": "@jupyter-widgets/controls",
            "_view_module_version": "1.5.0",
            "_view_name": "HTMLView",
            "description": "",
            "description_tooltip": null,
            "layout": "IPY_MODEL_3db69a7ac19548c48ebca6bbce9880e8",
            "placeholder": "​",
            "style": "IPY_MODEL_e39473aded7b4ce18c9d1de151cdfdd1",
            "value": " 9475/9475 [37:26&lt;00:00,  3.97it/s, loss=0.0791]"
          }
        },
        "413d1541b61843fe85d6a62455c04f7c": {
          "model_module": "@jupyter-widgets/base",
          "model_name": "LayoutModel",
          "model_module_version": "1.2.0",
          "state": {
            "_model_module": "@jupyter-widgets/base",
            "_model_module_version": "1.2.0",
            "_model_name": "LayoutModel",
            "_view_count": null,
            "_view_module": "@jupyter-widgets/base",
            "_view_module_version": "1.2.0",
            "_view_name": "LayoutView",
            "align_content": null,
            "align_items": null,
            "align_self": null,
            "border": null,
            "bottom": null,
            "display": null,
            "flex": null,
            "flex_flow": null,
            "grid_area": null,
            "grid_auto_columns": null,
            "grid_auto_flow": null,
            "grid_auto_rows": null,
            "grid_column": null,
            "grid_gap": null,
            "grid_row": null,
            "grid_template_areas": null,
            "grid_template_columns": null,
            "grid_template_rows": null,
            "height": null,
            "justify_content": null,
            "justify_items": null,
            "left": null,
            "margin": null,
            "max_height": null,
            "max_width": null,
            "min_height": null,
            "min_width": null,
            "object_fit": null,
            "object_position": null,
            "order": null,
            "overflow": null,
            "overflow_x": null,
            "overflow_y": null,
            "padding": null,
            "right": null,
            "top": null,
            "visibility": null,
            "width": null
          }
        },
        "ea9d622fbaca4f188f8f18a88c3ec088": {
          "model_module": "@jupyter-widgets/base",
          "model_name": "LayoutModel",
          "model_module_version": "1.2.0",
          "state": {
            "_model_module": "@jupyter-widgets/base",
            "_model_module_version": "1.2.0",
            "_model_name": "LayoutModel",
            "_view_count": null,
            "_view_module": "@jupyter-widgets/base",
            "_view_module_version": "1.2.0",
            "_view_name": "LayoutView",
            "align_content": null,
            "align_items": null,
            "align_self": null,
            "border": null,
            "bottom": null,
            "display": null,
            "flex": null,
            "flex_flow": null,
            "grid_area": null,
            "grid_auto_columns": null,
            "grid_auto_flow": null,
            "grid_auto_rows": null,
            "grid_column": null,
            "grid_gap": null,
            "grid_row": null,
            "grid_template_areas": null,
            "grid_template_columns": null,
            "grid_template_rows": null,
            "height": null,
            "justify_content": null,
            "justify_items": null,
            "left": null,
            "margin": null,
            "max_height": null,
            "max_width": null,
            "min_height": null,
            "min_width": null,
            "object_fit": null,
            "object_position": null,
            "order": null,
            "overflow": null,
            "overflow_x": null,
            "overflow_y": null,
            "padding": null,
            "right": null,
            "top": null,
            "visibility": null,
            "width": null
          }
        },
        "c675edf680314ac98e34da82fa11e018": {
          "model_module": "@jupyter-widgets/controls",
          "model_name": "DescriptionStyleModel",
          "model_module_version": "1.5.0",
          "state": {
            "_model_module": "@jupyter-widgets/controls",
            "_model_module_version": "1.5.0",
            "_model_name": "DescriptionStyleModel",
            "_view_count": null,
            "_view_module": "@jupyter-widgets/base",
            "_view_module_version": "1.2.0",
            "_view_name": "StyleView",
            "description_width": ""
          }
        },
        "ce2633423e23467190b50bcc033a9454": {
          "model_module": "@jupyter-widgets/base",
          "model_name": "LayoutModel",
          "model_module_version": "1.2.0",
          "state": {
            "_model_module": "@jupyter-widgets/base",
            "_model_module_version": "1.2.0",
            "_model_name": "LayoutModel",
            "_view_count": null,
            "_view_module": "@jupyter-widgets/base",
            "_view_module_version": "1.2.0",
            "_view_name": "LayoutView",
            "align_content": null,
            "align_items": null,
            "align_self": null,
            "border": null,
            "bottom": null,
            "display": null,
            "flex": null,
            "flex_flow": null,
            "grid_area": null,
            "grid_auto_columns": null,
            "grid_auto_flow": null,
            "grid_auto_rows": null,
            "grid_column": null,
            "grid_gap": null,
            "grid_row": null,
            "grid_template_areas": null,
            "grid_template_columns": null,
            "grid_template_rows": null,
            "height": null,
            "justify_content": null,
            "justify_items": null,
            "left": null,
            "margin": null,
            "max_height": null,
            "max_width": null,
            "min_height": null,
            "min_width": null,
            "object_fit": null,
            "object_position": null,
            "order": null,
            "overflow": null,
            "overflow_x": null,
            "overflow_y": null,
            "padding": null,
            "right": null,
            "top": null,
            "visibility": null,
            "width": null
          }
        },
        "61f103d2db124e71b370b6966f2e09ba": {
          "model_module": "@jupyter-widgets/controls",
          "model_name": "ProgressStyleModel",
          "model_module_version": "1.5.0",
          "state": {
            "_model_module": "@jupyter-widgets/controls",
            "_model_module_version": "1.5.0",
            "_model_name": "ProgressStyleModel",
            "_view_count": null,
            "_view_module": "@jupyter-widgets/base",
            "_view_module_version": "1.2.0",
            "_view_name": "StyleView",
            "bar_color": null,
            "description_width": ""
          }
        },
        "3db69a7ac19548c48ebca6bbce9880e8": {
          "model_module": "@jupyter-widgets/base",
          "model_name": "LayoutModel",
          "model_module_version": "1.2.0",
          "state": {
            "_model_module": "@jupyter-widgets/base",
            "_model_module_version": "1.2.0",
            "_model_name": "LayoutModel",
            "_view_count": null,
            "_view_module": "@jupyter-widgets/base",
            "_view_module_version": "1.2.0",
            "_view_name": "LayoutView",
            "align_content": null,
            "align_items": null,
            "align_self": null,
            "border": null,
            "bottom": null,
            "display": null,
            "flex": null,
            "flex_flow": null,
            "grid_area": null,
            "grid_auto_columns": null,
            "grid_auto_flow": null,
            "grid_auto_rows": null,
            "grid_column": null,
            "grid_gap": null,
            "grid_row": null,
            "grid_template_areas": null,
            "grid_template_columns": null,
            "grid_template_rows": null,
            "height": null,
            "justify_content": null,
            "justify_items": null,
            "left": null,
            "margin": null,
            "max_height": null,
            "max_width": null,
            "min_height": null,
            "min_width": null,
            "object_fit": null,
            "object_position": null,
            "order": null,
            "overflow": null,
            "overflow_x": null,
            "overflow_y": null,
            "padding": null,
            "right": null,
            "top": null,
            "visibility": null,
            "width": null
          }
        },
        "e39473aded7b4ce18c9d1de151cdfdd1": {
          "model_module": "@jupyter-widgets/controls",
          "model_name": "DescriptionStyleModel",
          "model_module_version": "1.5.0",
          "state": {
            "_model_module": "@jupyter-widgets/controls",
            "_model_module_version": "1.5.0",
            "_model_name": "DescriptionStyleModel",
            "_view_count": null,
            "_view_module": "@jupyter-widgets/base",
            "_view_module_version": "1.2.0",
            "_view_name": "StyleView",
            "description_width": ""
          }
        },
        "88800bc368974741b2a8e2f7c6892217": {
          "model_module": "@jupyter-widgets/controls",
          "model_name": "HBoxModel",
          "model_module_version": "1.5.0",
          "state": {
            "_dom_classes": [],
            "_model_module": "@jupyter-widgets/controls",
            "_model_module_version": "1.5.0",
            "_model_name": "HBoxModel",
            "_view_count": null,
            "_view_module": "@jupyter-widgets/controls",
            "_view_module_version": "1.5.0",
            "_view_name": "HBoxView",
            "box_style": "",
            "children": [
              "IPY_MODEL_8ae2501c762c43d68a15d768f3c5f267",
              "IPY_MODEL_2a52fca011734f3980cf2a3201f584aa",
              "IPY_MODEL_5f084c7e7bfc4b7aaf6ae0f072138746"
            ],
            "layout": "IPY_MODEL_4ed4fd5436b14358be6e9a9d729a9997"
          }
        },
        "8ae2501c762c43d68a15d768f3c5f267": {
          "model_module": "@jupyter-widgets/controls",
          "model_name": "HTMLModel",
          "model_module_version": "1.5.0",
          "state": {
            "_dom_classes": [],
            "_model_module": "@jupyter-widgets/controls",
            "_model_module_version": "1.5.0",
            "_model_name": "HTMLModel",
            "_view_count": null,
            "_view_module": "@jupyter-widgets/controls",
            "_view_module_version": "1.5.0",
            "_view_name": "HTMLView",
            "description": "",
            "description_tooltip": null,
            "layout": "IPY_MODEL_911f95ab953a4e70aee9e9b23af35ebd",
            "placeholder": "​",
            "style": "IPY_MODEL_069803b20ad74de3ba21db57dbc4aa9f",
            "value": "eval: 100%"
          }
        },
        "2a52fca011734f3980cf2a3201f584aa": {
          "model_module": "@jupyter-widgets/controls",
          "model_name": "FloatProgressModel",
          "model_module_version": "1.5.0",
          "state": {
            "_dom_classes": [],
            "_model_module": "@jupyter-widgets/controls",
            "_model_module_version": "1.5.0",
            "_model_name": "FloatProgressModel",
            "_view_count": null,
            "_view_module": "@jupyter-widgets/controls",
            "_view_module_version": "1.5.0",
            "_view_name": "ProgressView",
            "bar_style": "",
            "description": "",
            "description_tooltip": null,
            "layout": "IPY_MODEL_a7131505bb9c4bd7bc2b088b9e63fbf1",
            "max": 250,
            "min": 0,
            "orientation": "horizontal",
            "style": "IPY_MODEL_84376362629d4e37b8ca3259349fd1ad",
            "value": 250
          }
        },
        "5f084c7e7bfc4b7aaf6ae0f072138746": {
          "model_module": "@jupyter-widgets/controls",
          "model_name": "HTMLModel",
          "model_module_version": "1.5.0",
          "state": {
            "_dom_classes": [],
            "_model_module": "@jupyter-widgets/controls",
            "_model_module_version": "1.5.0",
            "_model_name": "HTMLModel",
            "_view_count": null,
            "_view_module": "@jupyter-widgets/controls",
            "_view_module_version": "1.5.0",
            "_view_name": "HTMLView",
            "description": "",
            "description_tooltip": null,
            "layout": "IPY_MODEL_affbfe3bf00845119c0fe73902dd4129",
            "placeholder": "​",
            "style": "IPY_MODEL_5e6ce1688f774967a38cef44716f6bd8",
            "value": " 249/250 [00:58&lt;00:00,  4.63it/s]"
          }
        },
        "4ed4fd5436b14358be6e9a9d729a9997": {
          "model_module": "@jupyter-widgets/base",
          "model_name": "LayoutModel",
          "model_module_version": "1.2.0",
          "state": {
            "_model_module": "@jupyter-widgets/base",
            "_model_module_version": "1.2.0",
            "_model_name": "LayoutModel",
            "_view_count": null,
            "_view_module": "@jupyter-widgets/base",
            "_view_module_version": "1.2.0",
            "_view_name": "LayoutView",
            "align_content": null,
            "align_items": null,
            "align_self": null,
            "border": null,
            "bottom": null,
            "display": null,
            "flex": null,
            "flex_flow": null,
            "grid_area": null,
            "grid_auto_columns": null,
            "grid_auto_flow": null,
            "grid_auto_rows": null,
            "grid_column": null,
            "grid_gap": null,
            "grid_row": null,
            "grid_template_areas": null,
            "grid_template_columns": null,
            "grid_template_rows": null,
            "height": null,
            "justify_content": null,
            "justify_items": null,
            "left": null,
            "margin": null,
            "max_height": null,
            "max_width": null,
            "min_height": null,
            "min_width": null,
            "object_fit": null,
            "object_position": null,
            "order": null,
            "overflow": null,
            "overflow_x": null,
            "overflow_y": null,
            "padding": null,
            "right": null,
            "top": null,
            "visibility": "hidden",
            "width": null
          }
        },
        "911f95ab953a4e70aee9e9b23af35ebd": {
          "model_module": "@jupyter-widgets/base",
          "model_name": "LayoutModel",
          "model_module_version": "1.2.0",
          "state": {
            "_model_module": "@jupyter-widgets/base",
            "_model_module_version": "1.2.0",
            "_model_name": "LayoutModel",
            "_view_count": null,
            "_view_module": "@jupyter-widgets/base",
            "_view_module_version": "1.2.0",
            "_view_name": "LayoutView",
            "align_content": null,
            "align_items": null,
            "align_self": null,
            "border": null,
            "bottom": null,
            "display": null,
            "flex": null,
            "flex_flow": null,
            "grid_area": null,
            "grid_auto_columns": null,
            "grid_auto_flow": null,
            "grid_auto_rows": null,
            "grid_column": null,
            "grid_gap": null,
            "grid_row": null,
            "grid_template_areas": null,
            "grid_template_columns": null,
            "grid_template_rows": null,
            "height": null,
            "justify_content": null,
            "justify_items": null,
            "left": null,
            "margin": null,
            "max_height": null,
            "max_width": null,
            "min_height": null,
            "min_width": null,
            "object_fit": null,
            "object_position": null,
            "order": null,
            "overflow": null,
            "overflow_x": null,
            "overflow_y": null,
            "padding": null,
            "right": null,
            "top": null,
            "visibility": null,
            "width": null
          }
        },
        "069803b20ad74de3ba21db57dbc4aa9f": {
          "model_module": "@jupyter-widgets/controls",
          "model_name": "DescriptionStyleModel",
          "model_module_version": "1.5.0",
          "state": {
            "_model_module": "@jupyter-widgets/controls",
            "_model_module_version": "1.5.0",
            "_model_name": "DescriptionStyleModel",
            "_view_count": null,
            "_view_module": "@jupyter-widgets/base",
            "_view_module_version": "1.2.0",
            "_view_name": "StyleView",
            "description_width": ""
          }
        },
        "a7131505bb9c4bd7bc2b088b9e63fbf1": {
          "model_module": "@jupyter-widgets/base",
          "model_name": "LayoutModel",
          "model_module_version": "1.2.0",
          "state": {
            "_model_module": "@jupyter-widgets/base",
            "_model_module_version": "1.2.0",
            "_model_name": "LayoutModel",
            "_view_count": null,
            "_view_module": "@jupyter-widgets/base",
            "_view_module_version": "1.2.0",
            "_view_name": "LayoutView",
            "align_content": null,
            "align_items": null,
            "align_self": null,
            "border": null,
            "bottom": null,
            "display": null,
            "flex": null,
            "flex_flow": null,
            "grid_area": null,
            "grid_auto_columns": null,
            "grid_auto_flow": null,
            "grid_auto_rows": null,
            "grid_column": null,
            "grid_gap": null,
            "grid_row": null,
            "grid_template_areas": null,
            "grid_template_columns": null,
            "grid_template_rows": null,
            "height": null,
            "justify_content": null,
            "justify_items": null,
            "left": null,
            "margin": null,
            "max_height": null,
            "max_width": null,
            "min_height": null,
            "min_width": null,
            "object_fit": null,
            "object_position": null,
            "order": null,
            "overflow": null,
            "overflow_x": null,
            "overflow_y": null,
            "padding": null,
            "right": null,
            "top": null,
            "visibility": null,
            "width": null
          }
        },
        "84376362629d4e37b8ca3259349fd1ad": {
          "model_module": "@jupyter-widgets/controls",
          "model_name": "ProgressStyleModel",
          "model_module_version": "1.5.0",
          "state": {
            "_model_module": "@jupyter-widgets/controls",
            "_model_module_version": "1.5.0",
            "_model_name": "ProgressStyleModel",
            "_view_count": null,
            "_view_module": "@jupyter-widgets/base",
            "_view_module_version": "1.2.0",
            "_view_name": "StyleView",
            "bar_color": null,
            "description_width": ""
          }
        },
        "affbfe3bf00845119c0fe73902dd4129": {
          "model_module": "@jupyter-widgets/base",
          "model_name": "LayoutModel",
          "model_module_version": "1.2.0",
          "state": {
            "_model_module": "@jupyter-widgets/base",
            "_model_module_version": "1.2.0",
            "_model_name": "LayoutModel",
            "_view_count": null,
            "_view_module": "@jupyter-widgets/base",
            "_view_module_version": "1.2.0",
            "_view_name": "LayoutView",
            "align_content": null,
            "align_items": null,
            "align_self": null,
            "border": null,
            "bottom": null,
            "display": null,
            "flex": null,
            "flex_flow": null,
            "grid_area": null,
            "grid_auto_columns": null,
            "grid_auto_flow": null,
            "grid_auto_rows": null,
            "grid_column": null,
            "grid_gap": null,
            "grid_row": null,
            "grid_template_areas": null,
            "grid_template_columns": null,
            "grid_template_rows": null,
            "height": null,
            "justify_content": null,
            "justify_items": null,
            "left": null,
            "margin": null,
            "max_height": null,
            "max_width": null,
            "min_height": null,
            "min_width": null,
            "object_fit": null,
            "object_position": null,
            "order": null,
            "overflow": null,
            "overflow_x": null,
            "overflow_y": null,
            "padding": null,
            "right": null,
            "top": null,
            "visibility": null,
            "width": null
          }
        },
        "5e6ce1688f774967a38cef44716f6bd8": {
          "model_module": "@jupyter-widgets/controls",
          "model_name": "DescriptionStyleModel",
          "model_module_version": "1.5.0",
          "state": {
            "_model_module": "@jupyter-widgets/controls",
            "_model_module_version": "1.5.0",
            "_model_name": "DescriptionStyleModel",
            "_view_count": null,
            "_view_module": "@jupyter-widgets/base",
            "_view_module_version": "1.2.0",
            "_view_name": "StyleView",
            "description_width": ""
          }
        },
        "2745621435784642a13ac6713dfcfbc0": {
          "model_module": "@jupyter-widgets/controls",
          "model_name": "HBoxModel",
          "model_module_version": "1.5.0",
          "state": {
            "_dom_classes": [],
            "_model_module": "@jupyter-widgets/controls",
            "_model_module_version": "1.5.0",
            "_model_name": "HBoxModel",
            "_view_count": null,
            "_view_module": "@jupyter-widgets/controls",
            "_view_module_version": "1.5.0",
            "_view_name": "HBoxView",
            "box_style": "",
            "children": [
              "IPY_MODEL_c687a659870e4500b5b133f0f0603bf4",
              "IPY_MODEL_1304c3457be8483aae5dc316ea0b2e65",
              "IPY_MODEL_4196ab529cbe423b838ac910ac8d5f7d"
            ],
            "layout": "IPY_MODEL_227dcde09d8a4494ac8462cf7408fcce"
          }
        },
        "c687a659870e4500b5b133f0f0603bf4": {
          "model_module": "@jupyter-widgets/controls",
          "model_name": "HTMLModel",
          "model_module_version": "1.5.0",
          "state": {
            "_dom_classes": [],
            "_model_module": "@jupyter-widgets/controls",
            "_model_module_version": "1.5.0",
            "_model_name": "HTMLModel",
            "_view_count": null,
            "_view_module": "@jupyter-widgets/controls",
            "_view_module_version": "1.5.0",
            "_view_name": "HTMLView",
            "description": "",
            "description_tooltip": null,
            "layout": "IPY_MODEL_11eefaea87c24bd481cb755edae2e3e2",
            "placeholder": "​",
            "style": "IPY_MODEL_3b7726e5125a40b58bbcf7e9b2510f0f",
            "value": "epoch 2/2: 100%"
          }
        },
        "1304c3457be8483aae5dc316ea0b2e65": {
          "model_module": "@jupyter-widgets/controls",
          "model_name": "FloatProgressModel",
          "model_module_version": "1.5.0",
          "state": {
            "_dom_classes": [],
            "_model_module": "@jupyter-widgets/controls",
            "_model_module_version": "1.5.0",
            "_model_name": "FloatProgressModel",
            "_view_count": null,
            "_view_module": "@jupyter-widgets/controls",
            "_view_module_version": "1.5.0",
            "_view_name": "ProgressView",
            "bar_style": "success",
            "description": "",
            "description_tooltip": null,
            "layout": "IPY_MODEL_dccb336c204f405485655a83fd8210bd",
            "max": 9475,
            "min": 0,
            "orientation": "horizontal",
            "style": "IPY_MODEL_b419d1e87278487283176b3851fbc484",
            "value": 9475
          }
        },
        "4196ab529cbe423b838ac910ac8d5f7d": {
          "model_module": "@jupyter-widgets/controls",
          "model_name": "HTMLModel",
          "model_module_version": "1.5.0",
          "state": {
            "_dom_classes": [],
            "_model_module": "@jupyter-widgets/controls",
            "_model_module_version": "1.5.0",
            "_model_name": "HTMLModel",
            "_view_count": null,
            "_view_module": "@jupyter-widgets/controls",
            "_view_module_version": "1.5.0",
            "_view_name": "HTMLView",
            "description": "",
            "description_tooltip": null,
            "layout": "IPY_MODEL_ce70bfced1ca4282940a32c0c62dd8df",
            "placeholder": "​",
            "style": "IPY_MODEL_aab16d36241941488433af0f1d295dae",
            "value": " 9475/9475 [37:29&lt;00:00,  4.00it/s, loss=0.0446]"
          }
        },
        "227dcde09d8a4494ac8462cf7408fcce": {
          "model_module": "@jupyter-widgets/base",
          "model_name": "LayoutModel",
          "model_module_version": "1.2.0",
          "state": {
            "_model_module": "@jupyter-widgets/base",
            "_model_module_version": "1.2.0",
            "_model_name": "LayoutModel",
            "_view_count": null,
            "_view_module": "@jupyter-widgets/base",
            "_view_module_version": "1.2.0",
            "_view_name": "LayoutView",
            "align_content": null,
            "align_items": null,
            "align_self": null,
            "border": null,
            "bottom": null,
            "display": null,
            "flex": null,
            "flex_flow": null,
            "grid_area": null,
            "grid_auto_columns": null,
            "grid_auto_flow": null,
            "grid_auto_rows": null,
            "grid_column": null,
            "grid_gap": null,
            "grid_row": null,
            "grid_template_areas": null,
            "grid_template_columns": null,
            "grid_template_rows": null,
            "height": null,
            "justify_content": null,
            "justify_items": null,
            "left": null,
            "margin": null,
            "max_height": null,
            "max_width": null,
            "min_height": null,
            "min_width": null,
            "object_fit": null,
            "object_position": null,
            "order": null,
            "overflow": null,
            "overflow_x": null,
            "overflow_y": null,
            "padding": null,
            "right": null,
            "top": null,
            "visibility": null,
            "width": null
          }
        },
        "11eefaea87c24bd481cb755edae2e3e2": {
          "model_module": "@jupyter-widgets/base",
          "model_name": "LayoutModel",
          "model_module_version": "1.2.0",
          "state": {
            "_model_module": "@jupyter-widgets/base",
            "_model_module_version": "1.2.0",
            "_model_name": "LayoutModel",
            "_view_count": null,
            "_view_module": "@jupyter-widgets/base",
            "_view_module_version": "1.2.0",
            "_view_name": "LayoutView",
            "align_content": null,
            "align_items": null,
            "align_self": null,
            "border": null,
            "bottom": null,
            "display": null,
            "flex": null,
            "flex_flow": null,
            "grid_area": null,
            "grid_auto_columns": null,
            "grid_auto_flow": null,
            "grid_auto_rows": null,
            "grid_column": null,
            "grid_gap": null,
            "grid_row": null,
            "grid_template_areas": null,
            "grid_template_columns": null,
            "grid_template_rows": null,
            "height": null,
            "justify_content": null,
            "justify_items": null,
            "left": null,
            "margin": null,
            "max_height": null,
            "max_width": null,
            "min_height": null,
            "min_width": null,
            "object_fit": null,
            "object_position": null,
            "order": null,
            "overflow": null,
            "overflow_x": null,
            "overflow_y": null,
            "padding": null,
            "right": null,
            "top": null,
            "visibility": null,
            "width": null
          }
        },
        "3b7726e5125a40b58bbcf7e9b2510f0f": {
          "model_module": "@jupyter-widgets/controls",
          "model_name": "DescriptionStyleModel",
          "model_module_version": "1.5.0",
          "state": {
            "_model_module": "@jupyter-widgets/controls",
            "_model_module_version": "1.5.0",
            "_model_name": "DescriptionStyleModel",
            "_view_count": null,
            "_view_module": "@jupyter-widgets/base",
            "_view_module_version": "1.2.0",
            "_view_name": "StyleView",
            "description_width": ""
          }
        },
        "dccb336c204f405485655a83fd8210bd": {
          "model_module": "@jupyter-widgets/base",
          "model_name": "LayoutModel",
          "model_module_version": "1.2.0",
          "state": {
            "_model_module": "@jupyter-widgets/base",
            "_model_module_version": "1.2.0",
            "_model_name": "LayoutModel",
            "_view_count": null,
            "_view_module": "@jupyter-widgets/base",
            "_view_module_version": "1.2.0",
            "_view_name": "LayoutView",
            "align_content": null,
            "align_items": null,
            "align_self": null,
            "border": null,
            "bottom": null,
            "display": null,
            "flex": null,
            "flex_flow": null,
            "grid_area": null,
            "grid_auto_columns": null,
            "grid_auto_flow": null,
            "grid_auto_rows": null,
            "grid_column": null,
            "grid_gap": null,
            "grid_row": null,
            "grid_template_areas": null,
            "grid_template_columns": null,
            "grid_template_rows": null,
            "height": null,
            "justify_content": null,
            "justify_items": null,
            "left": null,
            "margin": null,
            "max_height": null,
            "max_width": null,
            "min_height": null,
            "min_width": null,
            "object_fit": null,
            "object_position": null,
            "order": null,
            "overflow": null,
            "overflow_x": null,
            "overflow_y": null,
            "padding": null,
            "right": null,
            "top": null,
            "visibility": null,
            "width": null
          }
        },
        "b419d1e87278487283176b3851fbc484": {
          "model_module": "@jupyter-widgets/controls",
          "model_name": "ProgressStyleModel",
          "model_module_version": "1.5.0",
          "state": {
            "_model_module": "@jupyter-widgets/controls",
            "_model_module_version": "1.5.0",
            "_model_name": "ProgressStyleModel",
            "_view_count": null,
            "_view_module": "@jupyter-widgets/base",
            "_view_module_version": "1.2.0",
            "_view_name": "StyleView",
            "bar_color": null,
            "description_width": ""
          }
        },
        "ce70bfced1ca4282940a32c0c62dd8df": {
          "model_module": "@jupyter-widgets/base",
          "model_name": "LayoutModel",
          "model_module_version": "1.2.0",
          "state": {
            "_model_module": "@jupyter-widgets/base",
            "_model_module_version": "1.2.0",
            "_model_name": "LayoutModel",
            "_view_count": null,
            "_view_module": "@jupyter-widgets/base",
            "_view_module_version": "1.2.0",
            "_view_name": "LayoutView",
            "align_content": null,
            "align_items": null,
            "align_self": null,
            "border": null,
            "bottom": null,
            "display": null,
            "flex": null,
            "flex_flow": null,
            "grid_area": null,
            "grid_auto_columns": null,
            "grid_auto_flow": null,
            "grid_auto_rows": null,
            "grid_column": null,
            "grid_gap": null,
            "grid_row": null,
            "grid_template_areas": null,
            "grid_template_columns": null,
            "grid_template_rows": null,
            "height": null,
            "justify_content": null,
            "justify_items": null,
            "left": null,
            "margin": null,
            "max_height": null,
            "max_width": null,
            "min_height": null,
            "min_width": null,
            "object_fit": null,
            "object_position": null,
            "order": null,
            "overflow": null,
            "overflow_x": null,
            "overflow_y": null,
            "padding": null,
            "right": null,
            "top": null,
            "visibility": null,
            "width": null
          }
        },
        "aab16d36241941488433af0f1d295dae": {
          "model_module": "@jupyter-widgets/controls",
          "model_name": "DescriptionStyleModel",
          "model_module_version": "1.5.0",
          "state": {
            "_model_module": "@jupyter-widgets/controls",
            "_model_module_version": "1.5.0",
            "_model_name": "DescriptionStyleModel",
            "_view_count": null,
            "_view_module": "@jupyter-widgets/base",
            "_view_module_version": "1.2.0",
            "_view_name": "StyleView",
            "description_width": ""
          }
        },
        "f432fc3329144b42b7cbdc1afba7f2dd": {
          "model_module": "@jupyter-widgets/controls",
          "model_name": "HBoxModel",
          "model_module_version": "1.5.0",
          "state": {
            "_dom_classes": [],
            "_model_module": "@jupyter-widgets/controls",
            "_model_module_version": "1.5.0",
            "_model_name": "HBoxModel",
            "_view_count": null,
            "_view_module": "@jupyter-widgets/controls",
            "_view_module_version": "1.5.0",
            "_view_name": "HBoxView",
            "box_style": "",
            "children": [
              "IPY_MODEL_63e08701a9ba420f8bdef40d59947510",
              "IPY_MODEL_fbf3a21a881a4f968879de634a66e01f",
              "IPY_MODEL_ae82881db7344c04b5f3d9a3b8db5d30"
            ],
            "layout": "IPY_MODEL_31d83dd3cec74a289d668a70ffd64245"
          }
        },
        "63e08701a9ba420f8bdef40d59947510": {
          "model_module": "@jupyter-widgets/controls",
          "model_name": "HTMLModel",
          "model_module_version": "1.5.0",
          "state": {
            "_dom_classes": [],
            "_model_module": "@jupyter-widgets/controls",
            "_model_module_version": "1.5.0",
            "_model_name": "HTMLModel",
            "_view_count": null,
            "_view_module": "@jupyter-widgets/controls",
            "_view_module_version": "1.5.0",
            "_view_name": "HTMLView",
            "description": "",
            "description_tooltip": null,
            "layout": "IPY_MODEL_f207e3ad3ce243b5bb3ded125e06472c",
            "placeholder": "​",
            "style": "IPY_MODEL_71217e3003ce48d4b5ae55b81d94c973",
            "value": "eval: 100%"
          }
        },
        "fbf3a21a881a4f968879de634a66e01f": {
          "model_module": "@jupyter-widgets/controls",
          "model_name": "FloatProgressModel",
          "model_module_version": "1.5.0",
          "state": {
            "_dom_classes": [],
            "_model_module": "@jupyter-widgets/controls",
            "_model_module_version": "1.5.0",
            "_model_name": "FloatProgressModel",
            "_view_count": null,
            "_view_module": "@jupyter-widgets/controls",
            "_view_module_version": "1.5.0",
            "_view_name": "ProgressView",
            "bar_style": "",
            "description": "",
            "description_tooltip": null,
            "layout": "IPY_MODEL_af700673a188419eaccc272cf20cc09b",
            "max": 250,
            "min": 0,
            "orientation": "horizontal",
            "style": "IPY_MODEL_15f5b73a80bc4d6eba4a4e0d56287a2b",
            "value": 250
          }
        },
        "ae82881db7344c04b5f3d9a3b8db5d30": {
          "model_module": "@jupyter-widgets/controls",
          "model_name": "HTMLModel",
          "model_module_version": "1.5.0",
          "state": {
            "_dom_classes": [],
            "_model_module": "@jupyter-widgets/controls",
            "_model_module_version": "1.5.0",
            "_model_name": "HTMLModel",
            "_view_count": null,
            "_view_module": "@jupyter-widgets/controls",
            "_view_module_version": "1.5.0",
            "_view_name": "HTMLView",
            "description": "",
            "description_tooltip": null,
            "layout": "IPY_MODEL_3e9b60adef4047dfaaf3183fcc7722f0",
            "placeholder": "​",
            "style": "IPY_MODEL_4e3abef52c8c49d1ae954e5530e9ea8c",
            "value": " 249/250 [00:58&lt;00:00,  4.57it/s]"
          }
        },
        "31d83dd3cec74a289d668a70ffd64245": {
          "model_module": "@jupyter-widgets/base",
          "model_name": "LayoutModel",
          "model_module_version": "1.2.0",
          "state": {
            "_model_module": "@jupyter-widgets/base",
            "_model_module_version": "1.2.0",
            "_model_name": "LayoutModel",
            "_view_count": null,
            "_view_module": "@jupyter-widgets/base",
            "_view_module_version": "1.2.0",
            "_view_name": "LayoutView",
            "align_content": null,
            "align_items": null,
            "align_self": null,
            "border": null,
            "bottom": null,
            "display": null,
            "flex": null,
            "flex_flow": null,
            "grid_area": null,
            "grid_auto_columns": null,
            "grid_auto_flow": null,
            "grid_auto_rows": null,
            "grid_column": null,
            "grid_gap": null,
            "grid_row": null,
            "grid_template_areas": null,
            "grid_template_columns": null,
            "grid_template_rows": null,
            "height": null,
            "justify_content": null,
            "justify_items": null,
            "left": null,
            "margin": null,
            "max_height": null,
            "max_width": null,
            "min_height": null,
            "min_width": null,
            "object_fit": null,
            "object_position": null,
            "order": null,
            "overflow": null,
            "overflow_x": null,
            "overflow_y": null,
            "padding": null,
            "right": null,
            "top": null,
            "visibility": "hidden",
            "width": null
          }
        },
        "f207e3ad3ce243b5bb3ded125e06472c": {
          "model_module": "@jupyter-widgets/base",
          "model_name": "LayoutModel",
          "model_module_version": "1.2.0",
          "state": {
            "_model_module": "@jupyter-widgets/base",
            "_model_module_version": "1.2.0",
            "_model_name": "LayoutModel",
            "_view_count": null,
            "_view_module": "@jupyter-widgets/base",
            "_view_module_version": "1.2.0",
            "_view_name": "LayoutView",
            "align_content": null,
            "align_items": null,
            "align_self": null,
            "border": null,
            "bottom": null,
            "display": null,
            "flex": null,
            "flex_flow": null,
            "grid_area": null,
            "grid_auto_columns": null,
            "grid_auto_flow": null,
            "grid_auto_rows": null,
            "grid_column": null,
            "grid_gap": null,
            "grid_row": null,
            "grid_template_areas": null,
            "grid_template_columns": null,
            "grid_template_rows": null,
            "height": null,
            "justify_content": null,
            "justify_items": null,
            "left": null,
            "margin": null,
            "max_height": null,
            "max_width": null,
            "min_height": null,
            "min_width": null,
            "object_fit": null,
            "object_position": null,
            "order": null,
            "overflow": null,
            "overflow_x": null,
            "overflow_y": null,
            "padding": null,
            "right": null,
            "top": null,
            "visibility": null,
            "width": null
          }
        },
        "71217e3003ce48d4b5ae55b81d94c973": {
          "model_module": "@jupyter-widgets/controls",
          "model_name": "DescriptionStyleModel",
          "model_module_version": "1.5.0",
          "state": {
            "_model_module": "@jupyter-widgets/controls",
            "_model_module_version": "1.5.0",
            "_model_name": "DescriptionStyleModel",
            "_view_count": null,
            "_view_module": "@jupyter-widgets/base",
            "_view_module_version": "1.2.0",
            "_view_name": "StyleView",
            "description_width": ""
          }
        },
        "af700673a188419eaccc272cf20cc09b": {
          "model_module": "@jupyter-widgets/base",
          "model_name": "LayoutModel",
          "model_module_version": "1.2.0",
          "state": {
            "_model_module": "@jupyter-widgets/base",
            "_model_module_version": "1.2.0",
            "_model_name": "LayoutModel",
            "_view_count": null,
            "_view_module": "@jupyter-widgets/base",
            "_view_module_version": "1.2.0",
            "_view_name": "LayoutView",
            "align_content": null,
            "align_items": null,
            "align_self": null,
            "border": null,
            "bottom": null,
            "display": null,
            "flex": null,
            "flex_flow": null,
            "grid_area": null,
            "grid_auto_columns": null,
            "grid_auto_flow": null,
            "grid_auto_rows": null,
            "grid_column": null,
            "grid_gap": null,
            "grid_row": null,
            "grid_template_areas": null,
            "grid_template_columns": null,
            "grid_template_rows": null,
            "height": null,
            "justify_content": null,
            "justify_items": null,
            "left": null,
            "margin": null,
            "max_height": null,
            "max_width": null,
            "min_height": null,
            "min_width": null,
            "object_fit": null,
            "object_position": null,
            "order": null,
            "overflow": null,
            "overflow_x": null,
            "overflow_y": null,
            "padding": null,
            "right": null,
            "top": null,
            "visibility": null,
            "width": null
          }
        },
        "15f5b73a80bc4d6eba4a4e0d56287a2b": {
          "model_module": "@jupyter-widgets/controls",
          "model_name": "ProgressStyleModel",
          "model_module_version": "1.5.0",
          "state": {
            "_model_module": "@jupyter-widgets/controls",
            "_model_module_version": "1.5.0",
            "_model_name": "ProgressStyleModel",
            "_view_count": null,
            "_view_module": "@jupyter-widgets/base",
            "_view_module_version": "1.2.0",
            "_view_name": "StyleView",
            "bar_color": null,
            "description_width": ""
          }
        },
        "3e9b60adef4047dfaaf3183fcc7722f0": {
          "model_module": "@jupyter-widgets/base",
          "model_name": "LayoutModel",
          "model_module_version": "1.2.0",
          "state": {
            "_model_module": "@jupyter-widgets/base",
            "_model_module_version": "1.2.0",
            "_model_name": "LayoutModel",
            "_view_count": null,
            "_view_module": "@jupyter-widgets/base",
            "_view_module_version": "1.2.0",
            "_view_name": "LayoutView",
            "align_content": null,
            "align_items": null,
            "align_self": null,
            "border": null,
            "bottom": null,
            "display": null,
            "flex": null,
            "flex_flow": null,
            "grid_area": null,
            "grid_auto_columns": null,
            "grid_auto_flow": null,
            "grid_auto_rows": null,
            "grid_column": null,
            "grid_gap": null,
            "grid_row": null,
            "grid_template_areas": null,
            "grid_template_columns": null,
            "grid_template_rows": null,
            "height": null,
            "justify_content": null,
            "justify_items": null,
            "left": null,
            "margin": null,
            "max_height": null,
            "max_width": null,
            "min_height": null,
            "min_width": null,
            "object_fit": null,
            "object_position": null,
            "order": null,
            "overflow": null,
            "overflow_x": null,
            "overflow_y": null,
            "padding": null,
            "right": null,
            "top": null,
            "visibility": null,
            "width": null
          }
        },
        "4e3abef52c8c49d1ae954e5530e9ea8c": {
          "model_module": "@jupyter-widgets/controls",
          "model_name": "DescriptionStyleModel",
          "model_module_version": "1.5.0",
          "state": {
            "_model_module": "@jupyter-widgets/controls",
            "_model_module_version": "1.5.0",
            "_model_name": "DescriptionStyleModel",
            "_view_count": null,
            "_view_module": "@jupyter-widgets/base",
            "_view_module_version": "1.2.0",
            "_view_name": "StyleView",
            "description_width": ""
          }
        },
        "fb0df45bc5ad45c3bc8da4b49d793e27": {
          "model_module": "@jupyter-widgets/controls",
          "model_name": "HBoxModel",
          "model_module_version": "1.5.0",
          "state": {
            "_dom_classes": [],
            "_model_module": "@jupyter-widgets/controls",
            "_model_module_version": "1.5.0",
            "_model_name": "HBoxModel",
            "_view_count": null,
            "_view_module": "@jupyter-widgets/controls",
            "_view_module_version": "1.5.0",
            "_view_name": "HBoxView",
            "box_style": "",
            "children": [
              "IPY_MODEL_1a368e44bf424bf4913cceb8b4d83ac2",
              "IPY_MODEL_43ea0693cfe84c8a8b1b8d30fbbb8d5b",
              "IPY_MODEL_1722c84bef984c19a1c928b1e84e13df"
            ],
            "layout": "IPY_MODEL_4362a3307c7246b5874ddadae4a5a0bc"
          }
        },
        "1a368e44bf424bf4913cceb8b4d83ac2": {
          "model_module": "@jupyter-widgets/controls",
          "model_name": "HTMLModel",
          "model_module_version": "1.5.0",
          "state": {
            "_dom_classes": [],
            "_model_module": "@jupyter-widgets/controls",
            "_model_module_version": "1.5.0",
            "_model_name": "HTMLModel",
            "_view_count": null,
            "_view_module": "@jupyter-widgets/controls",
            "_view_module_version": "1.5.0",
            "_view_name": "HTMLView",
            "description": "",
            "description_tooltip": null,
            "layout": "IPY_MODEL_ed8f7b4aba234da7a7d3135b280a0fc8",
            "placeholder": "​",
            "style": "IPY_MODEL_6dae4ac7dfaf4965a39f0fa2369fb935",
            "value": "collect: 100%"
          }
        },
        "43ea0693cfe84c8a8b1b8d30fbbb8d5b": {
          "model_module": "@jupyter-widgets/controls",
          "model_name": "FloatProgressModel",
          "model_module_version": "1.5.0",
          "state": {
            "_dom_classes": [],
            "_model_module": "@jupyter-widgets/controls",
            "_model_module_version": "1.5.0",
            "_model_name": "FloatProgressModel",
            "_view_count": null,
            "_view_module": "@jupyter-widgets/controls",
            "_view_module_version": "1.5.0",
            "_view_name": "ProgressView",
            "bar_style": "success",
            "description": "",
            "description_tooltip": null,
            "layout": "IPY_MODEL_ac13d9f38a52496cb1c713af3d4d321d",
            "max": 250,
            "min": 0,
            "orientation": "horizontal",
            "style": "IPY_MODEL_3292f8db17aa4b4b8dbce35e1ce68e77",
            "value": 250
          }
        },
        "1722c84bef984c19a1c928b1e84e13df": {
          "model_module": "@jupyter-widgets/controls",
          "model_name": "HTMLModel",
          "model_module_version": "1.5.0",
          "state": {
            "_dom_classes": [],
            "_model_module": "@jupyter-widgets/controls",
            "_model_module_version": "1.5.0",
            "_model_name": "HTMLModel",
            "_view_count": null,
            "_view_module": "@jupyter-widgets/controls",
            "_view_module_version": "1.5.0",
            "_view_name": "HTMLView",
            "description": "",
            "description_tooltip": null,
            "layout": "IPY_MODEL_b6986125a6e1401aa7771d876dea6b7e",
            "placeholder": "​",
            "style": "IPY_MODEL_90513577d0e74c17bc65d48d35a54603",
            "value": " 250/250 [00:59&lt;00:00,  4.51it/s]"
          }
        },
        "4362a3307c7246b5874ddadae4a5a0bc": {
          "model_module": "@jupyter-widgets/base",
          "model_name": "LayoutModel",
          "model_module_version": "1.2.0",
          "state": {
            "_model_module": "@jupyter-widgets/base",
            "_model_module_version": "1.2.0",
            "_model_name": "LayoutModel",
            "_view_count": null,
            "_view_module": "@jupyter-widgets/base",
            "_view_module_version": "1.2.0",
            "_view_name": "LayoutView",
            "align_content": null,
            "align_items": null,
            "align_self": null,
            "border": null,
            "bottom": null,
            "display": null,
            "flex": null,
            "flex_flow": null,
            "grid_area": null,
            "grid_auto_columns": null,
            "grid_auto_flow": null,
            "grid_auto_rows": null,
            "grid_column": null,
            "grid_gap": null,
            "grid_row": null,
            "grid_template_areas": null,
            "grid_template_columns": null,
            "grid_template_rows": null,
            "height": null,
            "justify_content": null,
            "justify_items": null,
            "left": null,
            "margin": null,
            "max_height": null,
            "max_width": null,
            "min_height": null,
            "min_width": null,
            "object_fit": null,
            "object_position": null,
            "order": null,
            "overflow": null,
            "overflow_x": null,
            "overflow_y": null,
            "padding": null,
            "right": null,
            "top": null,
            "visibility": null,
            "width": null
          }
        },
        "ed8f7b4aba234da7a7d3135b280a0fc8": {
          "model_module": "@jupyter-widgets/base",
          "model_name": "LayoutModel",
          "model_module_version": "1.2.0",
          "state": {
            "_model_module": "@jupyter-widgets/base",
            "_model_module_version": "1.2.0",
            "_model_name": "LayoutModel",
            "_view_count": null,
            "_view_module": "@jupyter-widgets/base",
            "_view_module_version": "1.2.0",
            "_view_name": "LayoutView",
            "align_content": null,
            "align_items": null,
            "align_self": null,
            "border": null,
            "bottom": null,
            "display": null,
            "flex": null,
            "flex_flow": null,
            "grid_area": null,
            "grid_auto_columns": null,
            "grid_auto_flow": null,
            "grid_auto_rows": null,
            "grid_column": null,
            "grid_gap": null,
            "grid_row": null,
            "grid_template_areas": null,
            "grid_template_columns": null,
            "grid_template_rows": null,
            "height": null,
            "justify_content": null,
            "justify_items": null,
            "left": null,
            "margin": null,
            "max_height": null,
            "max_width": null,
            "min_height": null,
            "min_width": null,
            "object_fit": null,
            "object_position": null,
            "order": null,
            "overflow": null,
            "overflow_x": null,
            "overflow_y": null,
            "padding": null,
            "right": null,
            "top": null,
            "visibility": null,
            "width": null
          }
        },
        "6dae4ac7dfaf4965a39f0fa2369fb935": {
          "model_module": "@jupyter-widgets/controls",
          "model_name": "DescriptionStyleModel",
          "model_module_version": "1.5.0",
          "state": {
            "_model_module": "@jupyter-widgets/controls",
            "_model_module_version": "1.5.0",
            "_model_name": "DescriptionStyleModel",
            "_view_count": null,
            "_view_module": "@jupyter-widgets/base",
            "_view_module_version": "1.2.0",
            "_view_name": "StyleView",
            "description_width": ""
          }
        },
        "ac13d9f38a52496cb1c713af3d4d321d": {
          "model_module": "@jupyter-widgets/base",
          "model_name": "LayoutModel",
          "model_module_version": "1.2.0",
          "state": {
            "_model_module": "@jupyter-widgets/base",
            "_model_module_version": "1.2.0",
            "_model_name": "LayoutModel",
            "_view_count": null,
            "_view_module": "@jupyter-widgets/base",
            "_view_module_version": "1.2.0",
            "_view_name": "LayoutView",
            "align_content": null,
            "align_items": null,
            "align_self": null,
            "border": null,
            "bottom": null,
            "display": null,
            "flex": null,
            "flex_flow": null,
            "grid_area": null,
            "grid_auto_columns": null,
            "grid_auto_flow": null,
            "grid_auto_rows": null,
            "grid_column": null,
            "grid_gap": null,
            "grid_row": null,
            "grid_template_areas": null,
            "grid_template_columns": null,
            "grid_template_rows": null,
            "height": null,
            "justify_content": null,
            "justify_items": null,
            "left": null,
            "margin": null,
            "max_height": null,
            "max_width": null,
            "min_height": null,
            "min_width": null,
            "object_fit": null,
            "object_position": null,
            "order": null,
            "overflow": null,
            "overflow_x": null,
            "overflow_y": null,
            "padding": null,
            "right": null,
            "top": null,
            "visibility": null,
            "width": null
          }
        },
        "3292f8db17aa4b4b8dbce35e1ce68e77": {
          "model_module": "@jupyter-widgets/controls",
          "model_name": "ProgressStyleModel",
          "model_module_version": "1.5.0",
          "state": {
            "_model_module": "@jupyter-widgets/controls",
            "_model_module_version": "1.5.0",
            "_model_name": "ProgressStyleModel",
            "_view_count": null,
            "_view_module": "@jupyter-widgets/base",
            "_view_module_version": "1.2.0",
            "_view_name": "StyleView",
            "bar_color": null,
            "description_width": ""
          }
        },
        "b6986125a6e1401aa7771d876dea6b7e": {
          "model_module": "@jupyter-widgets/base",
          "model_name": "LayoutModel",
          "model_module_version": "1.2.0",
          "state": {
            "_model_module": "@jupyter-widgets/base",
            "_model_module_version": "1.2.0",
            "_model_name": "LayoutModel",
            "_view_count": null,
            "_view_module": "@jupyter-widgets/base",
            "_view_module_version": "1.2.0",
            "_view_name": "LayoutView",
            "align_content": null,
            "align_items": null,
            "align_self": null,
            "border": null,
            "bottom": null,
            "display": null,
            "flex": null,
            "flex_flow": null,
            "grid_area": null,
            "grid_auto_columns": null,
            "grid_auto_flow": null,
            "grid_auto_rows": null,
            "grid_column": null,
            "grid_gap": null,
            "grid_row": null,
            "grid_template_areas": null,
            "grid_template_columns": null,
            "grid_template_rows": null,
            "height": null,
            "justify_content": null,
            "justify_items": null,
            "left": null,
            "margin": null,
            "max_height": null,
            "max_width": null,
            "min_height": null,
            "min_width": null,
            "object_fit": null,
            "object_position": null,
            "order": null,
            "overflow": null,
            "overflow_x": null,
            "overflow_y": null,
            "padding": null,
            "right": null,
            "top": null,
            "visibility": null,
            "width": null
          }
        },
        "90513577d0e74c17bc65d48d35a54603": {
          "model_module": "@jupyter-widgets/controls",
          "model_name": "DescriptionStyleModel",
          "model_module_version": "1.5.0",
          "state": {
            "_model_module": "@jupyter-widgets/controls",
            "_model_module_version": "1.5.0",
            "_model_name": "DescriptionStyleModel",
            "_view_count": null,
            "_view_module": "@jupyter-widgets/base",
            "_view_module_version": "1.2.0",
            "_view_name": "StyleView",
            "description_width": ""
          }
        }
      }
    }
  },
  "cells": [
    {
      "cell_type": "code",
      "execution_count": 1,
      "metadata": {
        "colab": {
          "base_uri": "https://localhost:8080/"
        },
        "id": "V2PKAIK2IFoN",
        "outputId": "a06f1339-e653-4cd5-832e-9e3db967a057"
      },
      "outputs": [
        {
          "output_type": "stream",
          "name": "stdout",
          "text": [
            "Python: 3.12.11 (main, Jun  4 2025, 08:56:18) [GCC 11.4.0]\n",
            "Torch: 2.8.0+cu126 | CUDA: True\n",
            "Transformers: 4.56.1\n",
            "Datasets: 2.21.0\n",
            "PEFT: 0.11.1\n"
          ]
        }
      ],
      "source": [
        "!pip -q install -U \"transformers>=4.39,<5.0\" \"datasets>=2.19,<3.0\" \"peft>=0.11,<0.12\" \"accelerate>=0.29,<1.0\" tqdm scikit-learn\n",
        "\n",
        "import torch, sys, transformers, datasets, peft\n",
        "print(\"Python:\", sys.version)\n",
        "print(\"Torch:\", torch.__version__, \"| CUDA:\", torch.cuda.is_available())\n",
        "print(\"Transformers:\", transformers.__version__)\n",
        "print(\"Datasets:\", datasets.__version__)\n",
        "print(\"PEFT:\", peft.__version__)\n"
      ]
    },
    {
      "cell_type": "code",
      "source": [
        "import random, numpy as np\n",
        "\n",
        "MODEL_NAME   = \"distilbert-base-uncased\"\n",
        "OUT_ADAPTER  = \"/content/toxic_lora\"      # final LoRA adapter folder\n",
        "MAX_LEN      = 256\n",
        "LABELS       = [\"toxic\",\"severe_toxic\",\"obscene\",\"threat\",\"insult\",\"identity_hate\"]\n",
        "NUM_LABELS   = len(LABELS)\n",
        "SEED         = 42\n",
        "\n",
        "def set_seed(seed=SEED):\n",
        "    random.seed(seed); np.random.seed(seed); torch.manual_seed(seed)\n",
        "    if torch.cuda.is_available():\n",
        "        torch.cuda.manual_seed_all(seed)\n",
        "set_seed()\n"
      ],
      "metadata": {
        "id": "Y5NsNYqBYapm"
      },
      "execution_count": 2,
      "outputs": []
    },
    {
      "cell_type": "code",
      "source": [
        "from datasets import load_dataset\n",
        "\n",
        "# Load ONLY the labeled file to avoid the unlabeled test.csv\n",
        "ds_train_only = load_dataset(\n",
        "    \"thesofakillers/jigsaw-toxic-comment-classification-challenge\",\n",
        "    data_files={\"train\": \"train.csv\"},\n",
        "    split=\"train\",\n",
        ")\n",
        "\n",
        "# Make a small validation split from train\n",
        "ds_split = ds_train_only.train_test_split(test_size=0.05, seed=SEED)\n",
        "train_raw, valid_raw = ds_split[\"train\"], ds_split[\"test\"]\n",
        "\n",
        "print(train_raw[:2])\n",
        "print(\"Train/Valid sizes:\", len(train_raw), len(valid_raw))\n",
        "print(\"Columns:\", train_raw.column_names)\n"
      ],
      "metadata": {
        "colab": {
          "base_uri": "https://localhost:8080/"
        },
        "id": "hN4HpwPLY11h",
        "outputId": "4cbfdfb4-57ec-49fe-cb44-6066621f5830"
      },
      "execution_count": 3,
      "outputs": [
        {
          "output_type": "stream",
          "name": "stderr",
          "text": [
            "/usr/local/lib/python3.12/dist-packages/huggingface_hub/utils/_auth.py:94: UserWarning: \n",
            "The secret `HF_TOKEN` does not exist in your Colab secrets.\n",
            "To authenticate with the Hugging Face Hub, create a token in your settings tab (https://huggingface.co/settings/tokens), set it as secret in your Google Colab and restart your session.\n",
            "You will be able to reuse this secret in all of your notebooks.\n",
            "Please note that authentication is recommended but still optional to access public models or datasets.\n",
            "  warnings.warn(\n"
          ]
        },
        {
          "output_type": "stream",
          "name": "stdout",
          "text": [
            "{'id': ['f38bbddbee5a6ebb', '9936e94196a54d88'], 'comment_text': [\"That's right. What's your concern?\", 'I agree.  (I know I am Pro)'], 'toxic': [0, 0], 'severe_toxic': [0, 0], 'obscene': [0, 0], 'threat': [0, 0], 'insult': [0, 0], 'identity_hate': [0, 0]}\n",
            "Train/Valid sizes: 151592 7979\n",
            "Columns: ['id', 'comment_text', 'toxic', 'severe_toxic', 'obscene', 'threat', 'insult', 'identity_hate']\n"
          ]
        }
      ]
    },
    {
      "cell_type": "code",
      "source": [
        "from transformers import AutoConfig, AutoModelForSequenceClassification\n",
        "from peft import LoraConfig, get_peft_model, TaskType\n",
        "\n",
        "config = AutoConfig.from_pretrained(\n",
        "    MODEL_NAME,\n",
        "    num_labels=NUM_LABELS,\n",
        "    id2label={i: L for i, L in enumerate(LABELS)},\n",
        "    label2id={L: i for i, L in enumerate(LABELS)},\n",
        "    problem_type=\"multi_label_classification\",\n",
        ")\n",
        "\n",
        "base = AutoModelForSequenceClassification.from_pretrained(MODEL_NAME, config=config)\n",
        "\n",
        "# DistilBERT attention modules are q_lin/k_lin/v_lin/out_lin\n",
        "lora_cfg = LoraConfig(\n",
        "    r=8, lora_alpha=16, lora_dropout=0.05,\n",
        "    bias=\"none\", task_type=TaskType.SEQ_CLS,\n",
        "    target_modules=[\"q_lin\",\"k_lin\",\"v_lin\",\"out_lin\"]\n",
        ")\n",
        "\n",
        "model = get_peft_model(base, lora_cfg)\n",
        "model.print_trainable_parameters()\n"
      ],
      "metadata": {
        "colab": {
          "base_uri": "https://localhost:8080/"
        },
        "id": "GPW044SfZnYa",
        "outputId": "527a47b0-f6cf-49b5-fb72-3b0f66882b8b"
      },
      "execution_count": 4,
      "outputs": [
        {
          "output_type": "stream",
          "name": "stderr",
          "text": [
            "Some weights of DistilBertForSequenceClassification were not initialized from the model checkpoint at distilbert-base-uncased and are newly initialized: ['classifier.bias', 'classifier.weight', 'pre_classifier.bias', 'pre_classifier.weight']\n",
            "You should probably TRAIN this model on a down-stream task to be able to use it for predictions and inference.\n"
          ]
        },
        {
          "output_type": "stream",
          "name": "stdout",
          "text": [
            "trainable params: 890,118 || all params: 67,848,204 || trainable%: 1.3119\n"
          ]
        }
      ]
    },
    {
      "cell_type": "code",
      "source": [
        "from transformers import AutoTokenizer\n",
        "tok = AutoTokenizer.from_pretrained(MODEL_NAME, use_fast=True)\n",
        "\n",
        "def prep(ex):\n",
        "    text = (ex.get(\"comment_text\") or \"\").strip()\n",
        "    enc  = tok(text, truncation=True, max_length=MAX_LEN)\n",
        "    enc[\"labels\"] = [float(ex.get(k, 0.0)) for k in LABELS]  # float multi-label vector\n",
        "    return enc\n",
        "\n",
        "train_ds = train_raw.map(prep, remove_columns=train_raw.column_names)\n",
        "valid_ds = valid_raw.map(prep, remove_columns=valid_raw.column_names)\n",
        "\n",
        "train_ds.set_format(type=\"torch\")\n",
        "valid_ds.set_format(type=\"torch\")\n",
        "\n",
        "print(train_ds[0].keys())\n"
      ],
      "metadata": {
        "colab": {
          "base_uri": "https://localhost:8080/",
          "height": 67,
          "referenced_widgets": [
            "d9e2626df05640b293d495d13e428bcc",
            "f231efd3d7ea47678ac07de5fb366bf4",
            "0a925374b1b1404fb26e2d80ed59479f",
            "ab56d21f178945b9a4b979891fddaa5c",
            "22350dc9b19a425d9a138e686b9701a3",
            "eec3835ce9264f11a8d365ed45134629",
            "c8de69516daa48f68fb7064e7339433c",
            "a5b7b5d111e1485ca3733237e06339fb",
            "92c5d64010fe4248a5429736993ab2ba",
            "d07b031f68d9467ebfca5197932738d4",
            "79d6d461e6b547d082d87629c93ca64e"
          ]
        },
        "id": "S-t-zv8rY4u_",
        "outputId": "cac0b738-ede8-440c-96e7-a482b6743957"
      },
      "execution_count": 5,
      "outputs": [
        {
          "output_type": "display_data",
          "data": {
            "text/plain": [
              "Map:   0%|          | 0/7979 [00:00<?, ? examples/s]"
            ],
            "application/vnd.jupyter.widget-view+json": {
              "version_major": 2,
              "version_minor": 0,
              "model_id": "d9e2626df05640b293d495d13e428bcc"
            }
          },
          "metadata": {}
        },
        {
          "output_type": "stream",
          "name": "stdout",
          "text": [
            "dict_keys(['input_ids', 'attention_mask', 'labels'])\n"
          ]
        }
      ]
    },
    {
      "cell_type": "code",
      "source": [
        "# Make accelerate compatible with transformers calling unwrap_model(..., keep_torch_compile=...)\n",
        "!pip -q install -U \"accelerate>=0.34.2,<1.0\"\n",
        "\n",
        "import inspect\n",
        "import accelerate\n",
        "from accelerate import Accelerator\n",
        "\n",
        "print(\"accelerate:\", accelerate.__version__)\n",
        "\n",
        "# If this accelerate doesn't accept keep_torch_compile, shim it out:\n",
        "if \"keep_torch_compile\" not in inspect.signature(Accelerator.unwrap_model).parameters:\n",
        "    _orig_unwrap = Accelerator.unwrap_model\n",
        "    def _unwrap_model_compat(self, model, *args, **kwargs):\n",
        "        kwargs.pop(\"keep_torch_compile\", None)\n",
        "        return _orig_unwrap(self, model, *args, **kwargs)\n",
        "    Accelerator.unwrap_model = _unwrap_model_compat\n",
        "    print(\"Patched Accelerator.unwrap_model for compatibility ✅\")\n",
        "else:\n",
        "    print(\"unwrap_model has keep_torch_compile already ✅\")\n"
      ],
      "metadata": {
        "colab": {
          "base_uri": "https://localhost:8080/"
        },
        "id": "fNIWQmPmaDtt",
        "outputId": "735fff8d-29f2-4d66-86a9-17015038d2ea"
      },
      "execution_count": 8,
      "outputs": [
        {
          "output_type": "stream",
          "name": "stdout",
          "text": [
            "accelerate: 0.34.2\n",
            "Patched Accelerator.unwrap_model for compatibility ✅\n"
          ]
        }
      ]
    },
    {
      "cell_type": "code",
      "source": [
        "# Cell 6A — Build DataLoaders (no Trainer)\n",
        "import torch\n",
        "from torch.utils.data import DataLoader\n",
        "from transformers import DataCollatorWithPadding\n",
        "\n",
        "BATCH_TRAIN = 16\n",
        "BATCH_VALID = 32\n",
        "\n",
        "collator = DataCollatorWithPadding(tok)\n",
        "train_dl = DataLoader(train_ds, batch_size=BATCH_TRAIN, shuffle=True, collate_fn=collator)\n",
        "valid_dl = DataLoader(valid_ds, batch_size=BATCH_VALID, shuffle=False, collate_fn=collator)\n",
        "\n",
        "device = torch.device(\"cuda\" if torch.cuda.is_available() else \"cpu\")\n",
        "model.to(device)\n"
      ],
      "metadata": {
        "colab": {
          "base_uri": "https://localhost:8080/"
        },
        "id": "Ir9iWURFaOUI",
        "outputId": "66c5e5d6-4d0b-4bae-82ff-d7e28bf0dcf5"
      },
      "execution_count": 12,
      "outputs": [
        {
          "output_type": "execute_result",
          "data": {
            "text/plain": [
              "PeftModelForSequenceClassification(\n",
              "  (base_model): LoraModel(\n",
              "    (model): DistilBertForSequenceClassification(\n",
              "      (distilbert): DistilBertModel(\n",
              "        (embeddings): Embeddings(\n",
              "          (word_embeddings): Embedding(30522, 768, padding_idx=0)\n",
              "          (position_embeddings): Embedding(512, 768)\n",
              "          (LayerNorm): LayerNorm((768,), eps=1e-12, elementwise_affine=True)\n",
              "          (dropout): Dropout(p=0.1, inplace=False)\n",
              "        )\n",
              "        (transformer): Transformer(\n",
              "          (layer): ModuleList(\n",
              "            (0-5): 6 x TransformerBlock(\n",
              "              (attention): DistilBertSdpaAttention(\n",
              "                (dropout): Dropout(p=0.1, inplace=False)\n",
              "                (q_lin): lora.Linear(\n",
              "                  (base_layer): Linear(in_features=768, out_features=768, bias=True)\n",
              "                  (lora_dropout): ModuleDict(\n",
              "                    (default): Dropout(p=0.05, inplace=False)\n",
              "                  )\n",
              "                  (lora_A): ModuleDict(\n",
              "                    (default): Linear(in_features=768, out_features=8, bias=False)\n",
              "                  )\n",
              "                  (lora_B): ModuleDict(\n",
              "                    (default): Linear(in_features=8, out_features=768, bias=False)\n",
              "                  )\n",
              "                  (lora_embedding_A): ParameterDict()\n",
              "                  (lora_embedding_B): ParameterDict()\n",
              "                )\n",
              "                (k_lin): lora.Linear(\n",
              "                  (base_layer): Linear(in_features=768, out_features=768, bias=True)\n",
              "                  (lora_dropout): ModuleDict(\n",
              "                    (default): Dropout(p=0.05, inplace=False)\n",
              "                  )\n",
              "                  (lora_A): ModuleDict(\n",
              "                    (default): Linear(in_features=768, out_features=8, bias=False)\n",
              "                  )\n",
              "                  (lora_B): ModuleDict(\n",
              "                    (default): Linear(in_features=8, out_features=768, bias=False)\n",
              "                  )\n",
              "                  (lora_embedding_A): ParameterDict()\n",
              "                  (lora_embedding_B): ParameterDict()\n",
              "                )\n",
              "                (v_lin): lora.Linear(\n",
              "                  (base_layer): Linear(in_features=768, out_features=768, bias=True)\n",
              "                  (lora_dropout): ModuleDict(\n",
              "                    (default): Dropout(p=0.05, inplace=False)\n",
              "                  )\n",
              "                  (lora_A): ModuleDict(\n",
              "                    (default): Linear(in_features=768, out_features=8, bias=False)\n",
              "                  )\n",
              "                  (lora_B): ModuleDict(\n",
              "                    (default): Linear(in_features=8, out_features=768, bias=False)\n",
              "                  )\n",
              "                  (lora_embedding_A): ParameterDict()\n",
              "                  (lora_embedding_B): ParameterDict()\n",
              "                )\n",
              "                (out_lin): lora.Linear(\n",
              "                  (base_layer): Linear(in_features=768, out_features=768, bias=True)\n",
              "                  (lora_dropout): ModuleDict(\n",
              "                    (default): Dropout(p=0.05, inplace=False)\n",
              "                  )\n",
              "                  (lora_A): ModuleDict(\n",
              "                    (default): Linear(in_features=768, out_features=8, bias=False)\n",
              "                  )\n",
              "                  (lora_B): ModuleDict(\n",
              "                    (default): Linear(in_features=8, out_features=768, bias=False)\n",
              "                  )\n",
              "                  (lora_embedding_A): ParameterDict()\n",
              "                  (lora_embedding_B): ParameterDict()\n",
              "                )\n",
              "              )\n",
              "              (sa_layer_norm): LayerNorm((768,), eps=1e-12, elementwise_affine=True)\n",
              "              (ffn): FFN(\n",
              "                (dropout): Dropout(p=0.1, inplace=False)\n",
              "                (lin1): Linear(in_features=768, out_features=3072, bias=True)\n",
              "                (lin2): Linear(in_features=3072, out_features=768, bias=True)\n",
              "                (activation): GELUActivation()\n",
              "              )\n",
              "              (output_layer_norm): LayerNorm((768,), eps=1e-12, elementwise_affine=True)\n",
              "            )\n",
              "          )\n",
              "        )\n",
              "      )\n",
              "      (pre_classifier): ModulesToSaveWrapper(\n",
              "        (original_module): Linear(in_features=768, out_features=768, bias=True)\n",
              "        (modules_to_save): ModuleDict(\n",
              "          (default): Linear(in_features=768, out_features=768, bias=True)\n",
              "        )\n",
              "      )\n",
              "      (classifier): ModulesToSaveWrapper(\n",
              "        (original_module): Linear(in_features=768, out_features=6, bias=True)\n",
              "        (modules_to_save): ModuleDict(\n",
              "          (default): Linear(in_features=768, out_features=6, bias=True)\n",
              "        )\n",
              "      )\n",
              "      (dropout): Dropout(p=0.2, inplace=False)\n",
              "    )\n",
              "  )\n",
              ")"
            ]
          },
          "metadata": {},
          "execution_count": 12
        }
      ]
    },
    {
      "cell_type": "code",
      "source": [
        "# Cell 6B — Pure PyTorch training loop + eval\n",
        "import math, numpy as np\n",
        "from tqdm.auto import tqdm\n",
        "from torch.optim import AdamW\n",
        "from torch.nn import BCEWithLogitsLoss\n",
        "from transformers import get_linear_schedule_with_warmup\n",
        "\n",
        "EPOCHS = 2\n",
        "lr = 2e-5\n",
        "weight_decay = 0.01\n",
        "max_grad_norm = 1.0\n",
        "\n",
        "# Optimizer + scheduler\n",
        "opt = AdamW(model.parameters(), lr=lr, weight_decay=weight_decay)\n",
        "total_steps = EPOCHS * len(train_dl)\n",
        "sched = get_linear_schedule_with_warmup(opt, num_warmup_steps=int(0.06*total_steps), num_training_steps=total_steps)\n",
        "\n",
        "bce = BCEWithLogitsLoss()\n",
        "\n",
        "def evaluate():\n",
        "    model.eval()\n",
        "    all_logits = []\n",
        "    all_labels = []\n",
        "    with torch.no_grad():\n",
        "        for batch in tqdm(valid_dl, desc=\"eval\", leave=False):\n",
        "            labels = batch.pop(\"labels\").to(device).to(torch.float32)\n",
        "            for k in list(batch.keys()):\n",
        "                batch[k] = batch[k].to(device)\n",
        "            logits = model(**batch).logits\n",
        "            all_logits.append(logits.cpu().numpy())\n",
        "            all_labels.append(labels.cpu().numpy())\n",
        "    logits = np.concatenate(all_logits, axis=0)\n",
        "    labels = np.concatenate(all_labels, axis=0)\n",
        "    probs  = 1.0 / (1.0 + np.exp(-logits))         # sigmoid\n",
        "    preds  = (probs >= 0.5).astype(np.int32)\n",
        "    labels = labels.astype(np.int32)\n",
        "    tp = (preds & labels).sum()\n",
        "    fp = (preds & (1 - labels)).sum()\n",
        "    fn = ((1 - preds) & labels).sum()\n",
        "    micro_f1 = (2*tp) / (2*tp + fp + fn + 1e-9)\n",
        "    return float(micro_f1)\n",
        "\n",
        "best_f1 = -1.0\n",
        "for epoch in range(1, EPOCHS+1):\n",
        "    model.train()\n",
        "    running = 0.0\n",
        "    pbar = tqdm(train_dl, desc=f\"epoch {epoch}/{EPOCHS}\")\n",
        "    for batch in pbar:\n",
        "        labels = batch.pop(\"labels\").to(device).to(torch.float32)\n",
        "        for k in list(batch.keys()):\n",
        "            batch[k] = batch[k].to(device)\n",
        "\n",
        "        opt.zero_grad(set_to_none=True)\n",
        "        out = model(**batch)\n",
        "        loss = bce(out.logits, labels)\n",
        "        loss.backward()\n",
        "        torch.nn.utils.clip_grad_norm_(model.parameters(), max_grad_norm)\n",
        "        opt.step()\n",
        "        sched.step()\n",
        "\n",
        "        running += loss.item()\n",
        "        pbar.set_postfix(loss=f\"{running / (pbar.n or 1):.4f}\")\n",
        "\n",
        "    # eval after each epoch\n",
        "    f1 = evaluate()\n",
        "    print(f\"\\nEpoch {epoch}: micro-F1 = {f1:.4f}\")\n",
        "    best_f1 = max(best_f1, f1)\n",
        "\n",
        "print(f\"\\nBest micro-F1: {best_f1:.4f}\")\n"
      ],
      "metadata": {
        "colab": {
          "base_uri": "https://localhost:8080/",
          "height": 220,
          "referenced_widgets": [
            "53b4096c1de24315a7642ff329f41d59",
            "168ec0d3b7e6481bb5ef677f445cb5c5",
            "06ebb60b2e5a40a8b3cc6577a9aa88cd",
            "64949d3c905a4c09b041e6372f3481d9",
            "413d1541b61843fe85d6a62455c04f7c",
            "ea9d622fbaca4f188f8f18a88c3ec088",
            "c675edf680314ac98e34da82fa11e018",
            "ce2633423e23467190b50bcc033a9454",
            "61f103d2db124e71b370b6966f2e09ba",
            "3db69a7ac19548c48ebca6bbce9880e8",
            "e39473aded7b4ce18c9d1de151cdfdd1",
            "88800bc368974741b2a8e2f7c6892217",
            "8ae2501c762c43d68a15d768f3c5f267",
            "2a52fca011734f3980cf2a3201f584aa",
            "5f084c7e7bfc4b7aaf6ae0f072138746",
            "4ed4fd5436b14358be6e9a9d729a9997",
            "911f95ab953a4e70aee9e9b23af35ebd",
            "069803b20ad74de3ba21db57dbc4aa9f",
            "a7131505bb9c4bd7bc2b088b9e63fbf1",
            "84376362629d4e37b8ca3259349fd1ad",
            "affbfe3bf00845119c0fe73902dd4129",
            "5e6ce1688f774967a38cef44716f6bd8",
            "2745621435784642a13ac6713dfcfbc0",
            "c687a659870e4500b5b133f0f0603bf4",
            "1304c3457be8483aae5dc316ea0b2e65",
            "4196ab529cbe423b838ac910ac8d5f7d",
            "227dcde09d8a4494ac8462cf7408fcce",
            "11eefaea87c24bd481cb755edae2e3e2",
            "3b7726e5125a40b58bbcf7e9b2510f0f",
            "dccb336c204f405485655a83fd8210bd",
            "b419d1e87278487283176b3851fbc484",
            "ce70bfced1ca4282940a32c0c62dd8df",
            "aab16d36241941488433af0f1d295dae",
            "f432fc3329144b42b7cbdc1afba7f2dd",
            "63e08701a9ba420f8bdef40d59947510",
            "fbf3a21a881a4f968879de634a66e01f",
            "ae82881db7344c04b5f3d9a3b8db5d30",
            "31d83dd3cec74a289d668a70ffd64245",
            "f207e3ad3ce243b5bb3ded125e06472c",
            "71217e3003ce48d4b5ae55b81d94c973",
            "af700673a188419eaccc272cf20cc09b",
            "15f5b73a80bc4d6eba4a4e0d56287a2b",
            "3e9b60adef4047dfaaf3183fcc7722f0",
            "4e3abef52c8c49d1ae954e5530e9ea8c"
          ]
        },
        "id": "GKX44_fMcM0w",
        "outputId": "8284a91b-a87b-4db8-ef48-b8fa4143082a"
      },
      "execution_count": 13,
      "outputs": [
        {
          "data": {
            "application/vnd.jupyter.widget-view+json": {
              "model_id": "53b4096c1de24315a7642ff329f41d59",
              "version_major": 2,
              "version_minor": 0
            },
            "text/plain": [
              "epoch 1/2:   0%|          | 0/9475 [00:00<?, ?it/s]"
            ]
          },
          "metadata": {},
          "output_type": "display_data"
        },
        {
          "data": {
            "application/vnd.jupyter.widget-view+json": {
              "model_id": "88800bc368974741b2a8e2f7c6892217",
              "version_major": 2,
              "version_minor": 0
            },
            "text/plain": [
              "eval:   0%|          | 0/250 [00:00<?, ?it/s]"
            ]
          },
          "metadata": {},
          "output_type": "display_data"
        },
        {
          "metadata": {
            "tags": null
          },
          "name": "stdout",
          "output_type": "stream",
          "text": [
            "\n",
            "Epoch 1: micro-F1 = 0.7556\n"
          ]
        },
        {
          "data": {
            "application/vnd.jupyter.widget-view+json": {
              "model_id": "2745621435784642a13ac6713dfcfbc0",
              "version_major": 2,
              "version_minor": 0
            },
            "text/plain": [
              "epoch 2/2:   0%|          | 0/9475 [00:00<?, ?it/s]"
            ]
          },
          "metadata": {},
          "output_type": "display_data"
        },
        {
          "output_type": "display_data",
          "data": {
            "text/plain": [
              "eval:   0%|          | 0/250 [00:00<?, ?it/s]"
            ],
            "application/vnd.jupyter.widget-view+json": {
              "version_major": 2,
              "version_minor": 0,
              "model_id": "f432fc3329144b42b7cbdc1afba7f2dd"
            }
          },
          "metadata": {}
        },
        {
          "output_type": "stream",
          "name": "stdout",
          "text": [
            "\n",
            "Epoch 2: micro-F1 = 0.7658\n",
            "\n",
            "Best micro-F1: 0.7658\n"
          ]
        }
      ]
    },
    {
      "cell_type": "code",
      "source": [
        "# LoRA sanity: how many params are trainable?\n",
        "model.print_trainable_parameters()\n",
        "\n",
        "# Optional: list trainable tensors (should see lora_A/lora_B and classifier)\n",
        "for n, p in model.named_parameters():\n",
        "    if p.requires_grad:\n",
        "        print(n)\n"
      ],
      "metadata": {
        "colab": {
          "base_uri": "https://localhost:8080/"
        },
        "id": "GO86NDnmdLOl",
        "outputId": "7f8f7501-42db-4dd9-adc9-ffb063c9ba51"
      },
      "execution_count": 14,
      "outputs": [
        {
          "output_type": "stream",
          "name": "stdout",
          "text": [
            "trainable params: 890,118 || all params: 67,848,204 || trainable%: 1.3119\n",
            "base_model.model.distilbert.transformer.layer.0.attention.q_lin.lora_A.default.weight\n",
            "base_model.model.distilbert.transformer.layer.0.attention.q_lin.lora_B.default.weight\n",
            "base_model.model.distilbert.transformer.layer.0.attention.k_lin.lora_A.default.weight\n",
            "base_model.model.distilbert.transformer.layer.0.attention.k_lin.lora_B.default.weight\n",
            "base_model.model.distilbert.transformer.layer.0.attention.v_lin.lora_A.default.weight\n",
            "base_model.model.distilbert.transformer.layer.0.attention.v_lin.lora_B.default.weight\n",
            "base_model.model.distilbert.transformer.layer.0.attention.out_lin.lora_A.default.weight\n",
            "base_model.model.distilbert.transformer.layer.0.attention.out_lin.lora_B.default.weight\n",
            "base_model.model.distilbert.transformer.layer.1.attention.q_lin.lora_A.default.weight\n",
            "base_model.model.distilbert.transformer.layer.1.attention.q_lin.lora_B.default.weight\n",
            "base_model.model.distilbert.transformer.layer.1.attention.k_lin.lora_A.default.weight\n",
            "base_model.model.distilbert.transformer.layer.1.attention.k_lin.lora_B.default.weight\n",
            "base_model.model.distilbert.transformer.layer.1.attention.v_lin.lora_A.default.weight\n",
            "base_model.model.distilbert.transformer.layer.1.attention.v_lin.lora_B.default.weight\n",
            "base_model.model.distilbert.transformer.layer.1.attention.out_lin.lora_A.default.weight\n",
            "base_model.model.distilbert.transformer.layer.1.attention.out_lin.lora_B.default.weight\n",
            "base_model.model.distilbert.transformer.layer.2.attention.q_lin.lora_A.default.weight\n",
            "base_model.model.distilbert.transformer.layer.2.attention.q_lin.lora_B.default.weight\n",
            "base_model.model.distilbert.transformer.layer.2.attention.k_lin.lora_A.default.weight\n",
            "base_model.model.distilbert.transformer.layer.2.attention.k_lin.lora_B.default.weight\n",
            "base_model.model.distilbert.transformer.layer.2.attention.v_lin.lora_A.default.weight\n",
            "base_model.model.distilbert.transformer.layer.2.attention.v_lin.lora_B.default.weight\n",
            "base_model.model.distilbert.transformer.layer.2.attention.out_lin.lora_A.default.weight\n",
            "base_model.model.distilbert.transformer.layer.2.attention.out_lin.lora_B.default.weight\n",
            "base_model.model.distilbert.transformer.layer.3.attention.q_lin.lora_A.default.weight\n",
            "base_model.model.distilbert.transformer.layer.3.attention.q_lin.lora_B.default.weight\n",
            "base_model.model.distilbert.transformer.layer.3.attention.k_lin.lora_A.default.weight\n",
            "base_model.model.distilbert.transformer.layer.3.attention.k_lin.lora_B.default.weight\n",
            "base_model.model.distilbert.transformer.layer.3.attention.v_lin.lora_A.default.weight\n",
            "base_model.model.distilbert.transformer.layer.3.attention.v_lin.lora_B.default.weight\n",
            "base_model.model.distilbert.transformer.layer.3.attention.out_lin.lora_A.default.weight\n",
            "base_model.model.distilbert.transformer.layer.3.attention.out_lin.lora_B.default.weight\n",
            "base_model.model.distilbert.transformer.layer.4.attention.q_lin.lora_A.default.weight\n",
            "base_model.model.distilbert.transformer.layer.4.attention.q_lin.lora_B.default.weight\n",
            "base_model.model.distilbert.transformer.layer.4.attention.k_lin.lora_A.default.weight\n",
            "base_model.model.distilbert.transformer.layer.4.attention.k_lin.lora_B.default.weight\n",
            "base_model.model.distilbert.transformer.layer.4.attention.v_lin.lora_A.default.weight\n",
            "base_model.model.distilbert.transformer.layer.4.attention.v_lin.lora_B.default.weight\n",
            "base_model.model.distilbert.transformer.layer.4.attention.out_lin.lora_A.default.weight\n",
            "base_model.model.distilbert.transformer.layer.4.attention.out_lin.lora_B.default.weight\n",
            "base_model.model.distilbert.transformer.layer.5.attention.q_lin.lora_A.default.weight\n",
            "base_model.model.distilbert.transformer.layer.5.attention.q_lin.lora_B.default.weight\n",
            "base_model.model.distilbert.transformer.layer.5.attention.k_lin.lora_A.default.weight\n",
            "base_model.model.distilbert.transformer.layer.5.attention.k_lin.lora_B.default.weight\n",
            "base_model.model.distilbert.transformer.layer.5.attention.v_lin.lora_A.default.weight\n",
            "base_model.model.distilbert.transformer.layer.5.attention.v_lin.lora_B.default.weight\n",
            "base_model.model.distilbert.transformer.layer.5.attention.out_lin.lora_A.default.weight\n",
            "base_model.model.distilbert.transformer.layer.5.attention.out_lin.lora_B.default.weight\n",
            "base_model.model.pre_classifier.modules_to_save.default.weight\n",
            "base_model.model.pre_classifier.modules_to_save.default.bias\n",
            "base_model.model.classifier.modules_to_save.default.weight\n",
            "base_model.model.classifier.modules_to_save.default.bias\n"
          ]
        }
      ]
    },
    {
      "cell_type": "code",
      "source": [
        "from sklearn.metrics import precision_recall_curve\n",
        "import numpy as np, torch, json, os\n",
        "\n",
        "def collect_logits_labels(dl):\n",
        "    model.eval()\n",
        "    all_logits, all_labels = [], []\n",
        "    with torch.no_grad():\n",
        "        for batch in dl:\n",
        "            labels = batch[\"labels\"].numpy()\n",
        "            b = {k: v.to(device) for k, v in batch.items() if k != \"labels\"}\n",
        "            logits = model(**b).logits.cpu().numpy()\n",
        "            all_logits.append(logits); all_labels.append(labels)\n",
        "    return np.concatenate(all_logits), np.concatenate(all_labels)\n",
        "\n",
        "logits, labels = collect_logits_labels(valid_dl)\n",
        "probs = 1/(1+np.exp(-logits))\n",
        "\n",
        "thr = {}\n",
        "per_label = {}\n",
        "for i, lab in enumerate(LABELS):\n",
        "    prec, rec, t = precision_recall_curve(labels[:, i], probs[:, i])\n",
        "    f1 = (2*prec*rec) / (prec+rec+1e-9)\n",
        "    j = f1.argmax()\n",
        "    # precision_recall_curve returns t with length-1 vs prec/rec; guard index\n",
        "    chosen_t = float(t[j-1]) if j > 0 and (j-1) < len(t) else 0.5\n",
        "    thr[lab] = round(chosen_t, 3)\n",
        "    per_label[lab] = {\"best_f1\": float(f1[j]), \"precision\": float(prec[j]), \"recall\": float(rec[j])}\n",
        "\n",
        "print(\"Thresholds:\", thr)\n",
        "print(\"Per-label:\", per_label)\n",
        "# save them with the adapter for your agent\n",
        "OUT_ADAPTER = \"/content/toxic_lora\"\n",
        "os.makedirs(OUT_ADAPTER, exist_ok=True)\n",
        "with open(f\"{OUT_ADAPTER}/thresholds.json\",\"w\") as f: json.dump({\"thresholds\": thr}, f)\n"
      ],
      "metadata": {
        "colab": {
          "base_uri": "https://localhost:8080/"
        },
        "id": "Szb20fjfwAWM",
        "outputId": "7789e4d0-1080-41b2-d545-d3ebc11f658c"
      },
      "execution_count": 15,
      "outputs": [
        {
          "output_type": "stream",
          "name": "stdout",
          "text": [
            "Thresholds: {'toxic': 0.395, 'severe_toxic': 0.275, 'obscene': 0.448, 'threat': 0.068, 'insult': 0.451, 'identity_hate': 0.166}\n",
            "Per-label: {'toxic': {'best_f1': 0.8148614604575287, 'precision': 0.7938650306748466, 'recall': 0.8369987063389392}, 'severe_toxic': {'best_f1': 0.5299999995288, 'precision': 0.4274193548387097, 'recall': 0.6973684210526315}, 'obscene': {'best_f1': 0.826966291635036, 'precision': 0.8105726872246696, 'recall': 0.8440366972477065}, 'threat': {'best_f1': 0.2264150939337843, 'precision': 0.15789473684210525, 'recall': 0.4}, 'insult': {'best_f1': 0.7599067594083248, 'precision': 0.7196467991169978, 'recall': 0.8049382716049382}, 'identity_hate': {'best_f1': 0.3832335324536556, 'precision': 0.32, 'recall': 0.47761194029850745}}\n"
          ]
        }
      ]
    },
    {
      "cell_type": "code",
      "source": [
        "import os, json, shutil\n",
        "\n",
        "OUT_ADAPTER = \"/content/toxic_lora\"\n",
        "os.makedirs(OUT_ADAPTER, exist_ok=True)\n",
        "\n",
        "model.save_pretrained(OUT_ADAPTER)        # LoRA adapter only\n",
        "tok.save_pretrained(OUT_ADAPTER)\n",
        "\n",
        "with open(f\"{OUT_ADAPTER}/labels.json\",\"w\") as f:\n",
        "    json.dump({\"labels\": LABELS}, f)\n",
        "\n",
        "# (thresholds.json already written if you ran step 2)\n",
        "\n",
        "zip_path = shutil.make_archive(\"/content/toxic_lora\", \"zip\", OUT_ADAPTER)\n",
        "print(\"ZIP:\", zip_path)\n"
      ],
      "metadata": {
        "colab": {
          "base_uri": "https://localhost:8080/"
        },
        "id": "P3S-6yhOwNCw",
        "outputId": "41216b82-efe3-4c2e-8d72-57bf5dd92d3b"
      },
      "execution_count": 16,
      "outputs": [
        {
          "output_type": "stream",
          "name": "stdout",
          "text": [
            "ZIP: /content/toxic_lora.zip\n"
          ]
        }
      ]
    },
    {
      "cell_type": "code",
      "source": [
        "def show(texts, thresholds=None):\n",
        "    for t in texts:\n",
        "        enc = tok(t, return_tensors=\"pt\", truncation=True, max_length=256).to(device)\n",
        "        with torch.no_grad():\n",
        "            p = 1/(1+np.exp(-model(**enc).logits[0].cpu().numpy()))\n",
        "        probs = {k: float(v) for k, v in zip(LABELS, p)}\n",
        "        thr = thresholds or {k: 0.5 for k in LABELS}\n",
        "        preds = [k for k,v in probs.items() if v >= thr[k]]\n",
        "        print(\"\\n—\", t, \"\\nprobs:\", probs, \"\\npred>=thr:\", preds)\n",
        "\n",
        "# Use tuned thresholds if you computed them:\n",
        "import json, os\n",
        "thr = None\n",
        "if os.path.exists(f\"{OUT_ADAPTER}/thresholds.json\"):\n",
        "    thr = json.load(open(f\"{OUT_ADAPTER}/thresholds.json\"))[\"thresholds\"]\n",
        "\n",
        "show([\n",
        "    \"you are an idiot\",\n",
        "    \"meeting at 5pm ok?\",\n",
        "    \"haha sure, try that again and see what happens to you\"  # threat-ish\n",
        "], thresholds=thr)\n"
      ],
      "metadata": {
        "colab": {
          "base_uri": "https://localhost:8080/"
        },
        "id": "2OaOyddDwdkD",
        "outputId": "94ef2ef4-e4b9-474d-943e-79278296fa71"
      },
      "execution_count": 17,
      "outputs": [
        {
          "output_type": "stream",
          "name": "stdout",
          "text": [
            "\n",
            "— you are an idiot \n",
            "probs: {'toxic': 0.9770211577415466, 'severe_toxic': 0.07463670521974564, 'obscene': 0.6944683194160461, 'threat': 0.03250981122255325, 'insult': 0.9039914608001709, 'identity_hate': 0.10411567986011505} \n",
            "pred>=thr: ['toxic', 'obscene', 'insult']\n",
            "\n",
            "— meeting at 5pm ok? \n",
            "probs: {'toxic': 0.0013672965578734875, 'severe_toxic': 7.591403118567541e-06, 'obscene': 0.00031543089426122606, 'threat': 9.628642874304205e-05, 'insult': 0.00016514526214450598, 'identity_hate': 7.005103543633595e-05} \n",
            "pred>=thr: []\n",
            "\n",
            "— haha sure, try that again and see what happens to you \n",
            "probs: {'toxic': 0.009908316656947136, 'severe_toxic': 2.7984830012428574e-05, 'obscene': 0.0011355294845998287, 'threat': 0.00035175649099983275, 'insult': 0.0009650260326452553, 'identity_hate': 0.00032622640719637275} \n",
            "pred>=thr: []\n"
          ]
        }
      ]
    },
    {
      "cell_type": "code",
      "source": [
        "# Collect logits & labels on validation set (no Trainer needed)\n",
        "import numpy as np, torch\n",
        "from tqdm.auto import tqdm\n",
        "\n",
        "model.eval()\n",
        "all_logits, all_labels, raw_texts = [], [], []\n",
        "\n",
        "with torch.no_grad():\n",
        "    for batch in tqdm(valid_dl, desc=\"collect\"):\n",
        "        labels = batch[\"labels\"].numpy()\n",
        "        texts  = tok.batch_decode(batch[\"input_ids\"], skip_special_tokens=True)\n",
        "        b = {k: v.to(device) for k, v in batch.items() if k != \"labels\"}\n",
        "        logits = model(**b).logits.cpu().numpy()\n",
        "\n",
        "        all_logits.append(logits)\n",
        "        all_labels.append(labels)\n",
        "        raw_texts.extend(texts)\n",
        "\n",
        "logits = np.concatenate(all_logits, axis=0)   # (N, 6)\n",
        "labels = np.concatenate(all_labels, axis=0)   # (N, 6)\n",
        "probs  = 1.0 / (1.0 + np.exp(-logits))        # sigmoid\n",
        "\n",
        "N = labels.shape[0]\n",
        "prev = labels.mean(axis=0)\n",
        "print(\"N val:\", N)\n",
        "print(\"Prevalence per label:\", {k: float(v) for k,v in zip(LABELS, prev)})\n"
      ],
      "metadata": {
        "colab": {
          "base_uri": "https://localhost:8080/",
          "height": 105,
          "referenced_widgets": [
            "fb0df45bc5ad45c3bc8da4b49d793e27",
            "1a368e44bf424bf4913cceb8b4d83ac2",
            "43ea0693cfe84c8a8b1b8d30fbbb8d5b",
            "1722c84bef984c19a1c928b1e84e13df",
            "4362a3307c7246b5874ddadae4a5a0bc",
            "ed8f7b4aba234da7a7d3135b280a0fc8",
            "6dae4ac7dfaf4965a39f0fa2369fb935",
            "ac13d9f38a52496cb1c713af3d4d321d",
            "3292f8db17aa4b4b8dbce35e1ce68e77",
            "b6986125a6e1401aa7771d876dea6b7e",
            "90513577d0e74c17bc65d48d35a54603"
          ]
        },
        "id": "slKNj2e3wheH",
        "outputId": "83b6ca88-0491-4d2b-aa04-f8c0e1c2576a"
      },
      "execution_count": 18,
      "outputs": [
        {
          "output_type": "display_data",
          "data": {
            "text/plain": [
              "collect:   0%|          | 0/250 [00:00<?, ?it/s]"
            ],
            "application/vnd.jupyter.widget-view+json": {
              "version_major": 2,
              "version_minor": 0,
              "model_id": "fb0df45bc5ad45c3bc8da4b49d793e27"
            }
          },
          "metadata": {}
        },
        {
          "output_type": "stream",
          "name": "stdout",
          "text": [
            "N val: 7979\n",
            "Prevalence per label: {'toxic': 0.09687931090593338, 'severe_toxic': 0.009525002911686897, 'obscene': 0.05464343726634979, 'threat': 0.001879934803582728, 'insult': 0.0507582388818264, 'identity_hate': 0.008397041819989681}\n"
          ]
        }
      ]
    },
    {
      "cell_type": "code",
      "source": [
        "# collect logits/labels quickly\n",
        "import numpy as np, torch\n",
        "model.eval()\n",
        "all_logits, all_labels = [], []\n",
        "with torch.no_grad():\n",
        "    for batch in valid_dl:\n",
        "        y = batch[\"labels\"].numpy()\n",
        "        b = {k: v.to(model.device) for k,v in batch.items() if k!=\"labels\"}\n",
        "        lg = model(**b).logits.detach().cpu().numpy()\n",
        "        all_logits.append(lg); all_labels.append(y)\n",
        "logits = np.concatenate(all_logits); labels = np.concatenate(all_labels)\n",
        "probs  = 1/(1+np.exp(-logits))\n",
        "\n",
        "# simple per-label threshold by F1\n",
        "from sklearn.metrics import precision_recall_curve\n",
        "thr = {}\n",
        "for i, lab in enumerate(LABELS):\n",
        "    prec, rec, t = precision_recall_curve(labels[:, i], probs[:, i])\n",
        "    f1 = (2*prec*rec)/(prec+rec+1e-9)\n",
        "    j = f1.argmax()\n",
        "    thr[lab] = float(t[j-1]) if j>0 and (j-1)<len(t) else 0.5\n",
        "thr\n"
      ],
      "metadata": {
        "colab": {
          "base_uri": "https://localhost:8080/"
        },
        "id": "OZgxA5Onw9NL",
        "outputId": "e62588c9-9fc3-4243-89b6-3160527b07ed"
      },
      "execution_count": 19,
      "outputs": [
        {
          "output_type": "execute_result",
          "data": {
            "text/plain": [
              "{'toxic': 0.39462876319885254,\n",
              " 'severe_toxic': 0.2754362225532532,\n",
              " 'obscene': 0.4478161334991455,\n",
              " 'threat': 0.06765111535787582,\n",
              " 'insult': 0.45081913471221924,\n",
              " 'identity_hate': 0.1657458245754242}"
            ]
          },
          "metadata": {},
          "execution_count": 19
        }
      ]
    },
    {
      "cell_type": "code",
      "source": [
        "import os, json, torch, shutil\n",
        "OUT_ADAPTER = \"/content/toxic_lora\"\n",
        "os.makedirs(OUT_ADAPTER, exist_ok=True)\n",
        "\n",
        "# adapter + tokenizer\n",
        "model.save_pretrained(OUT_ADAPTER)         # LoRA adapter only\n",
        "tok.save_pretrained(OUT_ADAPTER)\n",
        "\n",
        "# labels + thresholds\n",
        "with open(f\"{OUT_ADAPTER}/labels.json\",\"w\") as f:\n",
        "    json.dump({\"labels\": LABELS}, f)\n",
        "with open(f\"{OUT_ADAPTER}/thresholds.json\",\"w\") as f:\n",
        "    json.dump({\"thresholds\": thr}, f)\n",
        "\n",
        "# IMPORTANT: save classifier head weights too (needed with LoRA)\n",
        "torch.save(model.base_model.classifier.state_dict(),\n",
        "           f\"{OUT_ADAPTER}/classifier_head.bin\")\n",
        "print(\"Saved classifier_head.bin\")\n",
        "\n",
        "# zip for download\n",
        "zip_path = shutil.make_archive(\"/content/toxic_lora\", \"zip\", OUT_ADAPTER)\n",
        "zip_path\n"
      ],
      "metadata": {
        "colab": {
          "base_uri": "https://localhost:8080/",
          "height": 53
        },
        "id": "vwQdwg3Nzp0g",
        "outputId": "662f4909-df96-46a3-aa94-8de89cd26255"
      },
      "execution_count": 20,
      "outputs": [
        {
          "output_type": "stream",
          "name": "stdout",
          "text": [
            "Saved classifier_head.bin\n"
          ]
        },
        {
          "output_type": "execute_result",
          "data": {
            "text/plain": [
              "'/content/toxic_lora.zip'"
            ],
            "application/vnd.google.colaboratory.intrinsic+json": {
              "type": "string"
            }
          },
          "metadata": {},
          "execution_count": 20
        }
      ]
    },
    {
      "cell_type": "code",
      "source": [
        "from transformers import AutoTokenizer, AutoConfig, AutoModelForSequenceClassification\n",
        "BASE_DIR = \"/content/toxic_base\"\n",
        "cfg = AutoConfig.from_pretrained(\"distilbert-base-uncased\",\n",
        "                                 num_labels=len(LABELS),\n",
        "                                 problem_type=\"multi_label_classification\")\n",
        "base = AutoModelForSequenceClassification.from_pretrained(\"distilbert-base-uncased\", config=cfg)\n",
        "tokb = AutoTokenizer.from_pretrained(\"distilbert-base-uncased\", use_fast=True)\n",
        "base.save_pretrained(BASE_DIR); tokb.save_pretrained(BASE_DIR)\n",
        "\n",
        "import shutil\n",
        "base_zip = shutil.make_archive(\"/content/toxic_base\", \"zip\", BASE_DIR)\n",
        "base_zip\n"
      ],
      "metadata": {
        "colab": {
          "base_uri": "https://localhost:8080/",
          "height": 91
        },
        "id": "6K87z_TS0A2y",
        "outputId": "bcd4977e-93ff-4bb4-f419-b556e0fb519d"
      },
      "execution_count": 21,
      "outputs": [
        {
          "output_type": "stream",
          "name": "stderr",
          "text": [
            "Some weights of DistilBertForSequenceClassification were not initialized from the model checkpoint at distilbert-base-uncased and are newly initialized: ['classifier.bias', 'classifier.weight', 'pre_classifier.bias', 'pre_classifier.weight']\n",
            "You should probably TRAIN this model on a down-stream task to be able to use it for predictions and inference.\n"
          ]
        },
        {
          "output_type": "execute_result",
          "data": {
            "text/plain": [
              "'/content/toxic_base.zip'"
            ],
            "application/vnd.google.colaboratory.intrinsic+json": {
              "type": "string"
            }
          },
          "metadata": {},
          "execution_count": 21
        }
      ]
    },
    {
      "cell_type": "code",
      "source": [
        "def show(texts, thresholds=None):\n",
        "    for t in texts:\n",
        "        enc = tok(t, return_tensors=\"pt\", truncation=True, max_length=256).to(device)\n",
        "        with torch.no_grad():\n",
        "            p = 1/(1+np.exp(-model(**enc).logits[0].cpu().numpy()))\n",
        "        probs = {k: float(v) for k, v in zip(LABELS, p)}\n",
        "        thr = thresholds or {k: 0.5 for k in LABELS}\n",
        "        preds = [k for k,v in probs.items() if v >= thr[k]]\n",
        "        print(\"\\n—\", t, \"\\nprobs:\", probs, \"\\npred>=thr:\", preds)\n",
        "\n",
        "# Use tuned thresholds if you computed them:\n",
        "import json, os\n",
        "thr = None\n",
        "if os.path.exists(f\"{OUT_ADAPTER}/thresholds.json\"):\n",
        "    thr = json.load(open(f\"{OUT_ADAPTER}/thresholds.json\"))[\"thresholds\"]\n",
        "\n",
        "show([\n",
        "    \"cows are smarter than you\",\n",
        "    \"i hate you i hate you you stupid bitch i will rape you\",\n",
        "    \"meeting at 5pm ok?\",\n",
        "    \"i will kill you with a knife\"  # threat-ish\n",
        "], thresholds=thr)\n"
      ],
      "metadata": {
        "colab": {
          "base_uri": "https://localhost:8080/"
        },
        "id": "hKE5LeB30HhE",
        "outputId": "559abcf0-ed7a-47df-f6ab-6873072d28ec"
      },
      "execution_count": 24,
      "outputs": [
        {
          "output_type": "stream",
          "name": "stdout",
          "text": [
            "\n",
            "— cows are smarter than you \n",
            "probs: {'toxic': 0.6299000978469849, 'severe_toxic': 0.009362070821225643, 'obscene': 0.06691936403512955, 'threat': 0.024196064099669456, 'insult': 0.230942964553833, 'identity_hate': 0.05680639296770096} \n",
            "pred>=thr: ['toxic']\n",
            "\n",
            "— i hate you i hate you you stupid bitch i will rape you \n",
            "probs: {'toxic': 0.9902991056442261, 'severe_toxic': 0.44855546951293945, 'obscene': 0.9425479769706726, 'threat': 0.12210147827863693, 'insult': 0.9412630796432495, 'identity_hate': 0.21220839023590088} \n",
            "pred>=thr: ['toxic', 'severe_toxic', 'obscene', 'threat', 'insult', 'identity_hate']\n",
            "\n",
            "— meeting at 5pm ok? \n",
            "probs: {'toxic': 0.0013672965578734875, 'severe_toxic': 7.591403118567541e-06, 'obscene': 0.00031543089426122606, 'threat': 9.628642874304205e-05, 'insult': 0.00016514526214450598, 'identity_hate': 7.005103543633595e-05} \n",
            "pred>=thr: []\n",
            "\n",
            "— i will kill you with a knife \n",
            "probs: {'toxic': 0.8322750926017761, 'severe_toxic': 0.02939043939113617, 'obscene': 0.23473452031612396, 'threat': 0.11170918494462967, 'insult': 0.2807282507419586, 'identity_hate': 0.0636647567152977} \n",
            "pred>=thr: ['toxic', 'threat']\n"
          ]
        }
      ]
    },
    {
      "cell_type": "code",
      "source": [
        "def f1_micro_macro(y_true01, y_pred01):\n",
        "    # micro\n",
        "    tp = (y_pred01 & y_true01).sum()\n",
        "    fp = (y_pred01 & (1 - y_true01)).sum()\n",
        "    fn = ((1 - y_pred01) & y_true01).sum()\n",
        "    f1_micro = (2*tp) / (2*tp + fp + fn + 1e-9)\n",
        "    # macro = mean per-label F1\n",
        "    f1s = []\n",
        "    for j in range(y_true01.shape[1]):\n",
        "        tp = (y_pred01[:,j] & y_true01[:,j]).sum()\n",
        "        fp = (y_pred01[:,j] & (1 - y_true01[:,j])).sum()\n",
        "        fn = ((1 - y_pred01[:,j]) & y_true01[:,j]).sum()\n",
        "        f1 = (2*tp) / (2*tp + fp + fn + 1e-9)\n",
        "        f1s.append(f1)\n",
        "    return float(f1_micro), float(np.mean(f1s)), [float(x) for x in f1s]\n",
        "\n",
        "thr_default = np.full(len(LABELS), 0.5, dtype=np.float32)\n",
        "pred01 = (probs >= thr_default).astype(int)\n",
        "f1_micro, f1_macro, f1_per_label = f1_micro_macro(labels.astype(int), pred01)\n",
        "print(\"F1 micro (t=0.5):\", round(f1_micro,4))\n",
        "print(\"F1 macro (t=0.5):\", round(f1_macro,4))\n",
        "print(\"F1 per label:\", {k: round(v,4) for k,v in zip(LABELS, f1_per_label)})\n"
      ],
      "metadata": {
        "colab": {
          "base_uri": "https://localhost:8080/"
        },
        "id": "xl4RgGuF2RJN",
        "outputId": "751b6101-997a-4428-95a4-3dea0a51dc89"
      },
      "execution_count": 25,
      "outputs": [
        {
          "output_type": "stream",
          "name": "stdout",
          "text": [
            "F1 micro (t=0.5): 0.7658\n",
            "F1 macro (t=0.5): 0.455\n",
            "F1 per label: {'toxic': 0.8103, 'severe_toxic': 0.3091, 'obscene': 0.8255, 'threat': 0.0, 'insult': 0.7558, 'identity_hate': 0.0294}\n"
          ]
        }
      ]
    },
    {
      "cell_type": "code",
      "source": [
        "from sklearn.metrics import average_precision_score\n",
        "auprc = {lab: float(average_precision_score(labels[:,i], probs[:,i])) for i, lab in enumerate(LABELS)}\n",
        "print(\"AUPRC per label:\", auprc)\n",
        "print(\"AUPRC (macro mean):\", float(np.mean(list(auprc.values()))))\n"
      ],
      "metadata": {
        "colab": {
          "base_uri": "https://localhost:8080/"
        },
        "id": "c-4EAq_L22bQ",
        "outputId": "f0867ba7-56e3-49b4-807f-e7bdc69f83c2"
      },
      "execution_count": 26,
      "outputs": [
        {
          "output_type": "stream",
          "name": "stdout",
          "text": [
            "AUPRC per label: {'toxic': 0.8972413573114856, 'severe_toxic': 0.42644987757590364, 'obscene': 0.9010318669049132, 'threat': 0.1259247186382035, 'insult': 0.8007769668461674, 'identity_hate': 0.33158729629933065}\n",
            "AUPRC (macro mean): 0.5805020139293341\n"
          ]
        }
      ]
    },
    {
      "cell_type": "code",
      "source": [
        "from sklearn.metrics import precision_recall_curve\n",
        "\n",
        "tuned_thr = {}\n",
        "perlabel_best = {}\n",
        "\n",
        "for i, lab in enumerate(LABELS):\n",
        "    prec, rec, t = precision_recall_curve(labels[:, i], probs[:, i])\n",
        "    f1 = (2*prec*rec) / (prec+rec+1e-9)\n",
        "    j = f1.argmax()\n",
        "    # precision_recall_curve returns len(t) = len(prec)-1; line up index carefully\n",
        "    t_chosen = float(t[j-1]) if j > 0 and (j-1) < len(t) else 0.5\n",
        "    tuned_thr[lab] = round(t_chosen, 3)\n",
        "    perlabel_best[lab] = {\"best_f1\": float(f1[j]), \"precision\": float(prec[j]), \"recall\": float(rec[j])}\n",
        "\n",
        "print(\"Tuned thresholds:\", tuned_thr)\n",
        "print(\"Per-label best (F1/Prec/Rec):\", perlabel_best)\n",
        "\n",
        "# Apply tuned thresholds and recompute micro/macro F1\n",
        "thr_vec = np.array([tuned_thr[lab] for lab in LABELS], dtype=np.float32)\n",
        "pred01_tuned = (probs >= thr_vec).astype(int)\n",
        "f1_micro_tuned, f1_macro_tuned, f1_per_label_tuned = f1_micro_macro(labels.astype(int), pred01_tuned)\n",
        "print(\"F1 micro (tuned):\", round(f1_micro_tuned,4))\n",
        "print(\"F1 macro (tuned):\", round(f1_macro_tuned,4))\n"
      ],
      "metadata": {
        "colab": {
          "base_uri": "https://localhost:8080/"
        },
        "id": "20EUfeVs25i4",
        "outputId": "55611207-ffa0-4a79-9de1-4948bd938e17"
      },
      "execution_count": 27,
      "outputs": [
        {
          "output_type": "stream",
          "name": "stdout",
          "text": [
            "Tuned thresholds: {'toxic': 0.395, 'severe_toxic': 0.275, 'obscene': 0.448, 'threat': 0.068, 'insult': 0.451, 'identity_hate': 0.166}\n",
            "Per-label best (F1/Prec/Rec): {'toxic': {'best_f1': 0.8148614604575287, 'precision': 0.7938650306748466, 'recall': 0.8369987063389392}, 'severe_toxic': {'best_f1': 0.5299999995288, 'precision': 0.4274193548387097, 'recall': 0.6973684210526315}, 'obscene': {'best_f1': 0.826966291635036, 'precision': 0.8105726872246696, 'recall': 0.8440366972477065}, 'threat': {'best_f1': 0.2264150939337843, 'precision': 0.15789473684210525, 'recall': 0.4}, 'insult': {'best_f1': 0.7599067594083248, 'precision': 0.7196467991169978, 'recall': 0.8049382716049382}, 'identity_hate': {'best_f1': 0.3832335324536556, 'precision': 0.32, 'recall': 0.47761194029850745}}\n",
            "F1 micro (tuned): 0.7617\n",
            "F1 macro (tuned): 0.5879\n"
          ]
        }
      ]
    },
    {
      "cell_type": "code",
      "source": [
        "import matplotlib.pyplot as plt\n",
        "\n",
        "# Brier score (lower = better); do per label\n",
        "brier = {lab: float(np.mean((probs[:,i] - labels[:,i])**2)) for i, lab in enumerate(LABELS)}\n",
        "print(\"Brier per label:\", brier)\n",
        "print(\"Brier macro mean:\", float(np.mean(list(brier.values()))))\n",
        "\n",
        "# Reliability diagram (per label)\n",
        "def reliability(points=10):\n",
        "    bins = np.linspace(0,1,points+1)\n",
        "    out = {}\n",
        "    for i, lab in enumerate(LABELS):\n",
        "        p = probs[:,i]; y = labels[:,i]\n",
        "        bin_acc, bin_conf, bin_n = [], [], []\n",
        "        for b0, b1 in zip(bins[:-1], bins[1:]):\n",
        "            m = (p>=b0) & (p<b1)\n",
        "            if m.sum()==0:\n",
        "                bin_acc.append(np.nan); bin_conf.append((b0+b1)/2); bin_n.append(0)\n",
        "            else:\n",
        "                bin_acc.append(float(y[m].mean()))\n",
        "                bin_conf.append(float(p[m].mean()))\n",
        "                bin_n.append(int(m.sum()))\n",
        "        out[lab] = (np.array(bin_conf), np.array(bin_acc), np.array(bin_n))\n",
        "    return out\n",
        "\n",
        "rel = reliability(points=15)\n",
        "plt.figure(figsize=(6,5))\n",
        "lab0 = LABELS[0]\n",
        "x,y,n = rel[lab0]\n",
        "mask = ~np.isnan(y)\n",
        "plt.plot([0,1],[0,1], linestyle=\"--\")\n",
        "plt.plot(x[mask], y[mask], marker=\"o\")\n",
        "plt.xlabel(\"Mean predicted probability\")\n",
        "plt.ylabel(\"Empirical frequency\")\n",
        "plt.title(f\"Reliability — {lab0}\")\n",
        "plt.show()\n"
      ],
      "metadata": {
        "colab": {
          "base_uri": "https://localhost:8080/",
          "height": 543
        },
        "id": "YOiLsBbl27sY",
        "outputId": "f7a7e0ac-40be-4b27-8ca0-4b3cb3c56481"
      },
      "execution_count": 28,
      "outputs": [
        {
          "output_type": "stream",
          "name": "stdout",
          "text": [
            "Brier per label: {'toxic': 0.026636235415935516, 'severe_toxic': 0.006466060411185026, 'obscene': 0.014511190354824066, 'threat': 0.0017794130835682154, 'insult': 0.01892431452870369, 'identity_hate': 0.006854429841041565}\n",
            "Brier macro mean: 0.012528607272543013\n"
          ]
        },
        {
          "output_type": "display_data",
          "data": {
            "text/plain": [
              "<Figure size 600x500 with 1 Axes>"
            ],
            "image/png": "[encoded data removed]"
          },
          "metadata": {}
        }
      ]
    },
    {
      "cell_type": "code",
      "source": [
        "def confusion(y, yhat):\n",
        "    tp = int(((y==1)&(yhat==1)).sum())\n",
        "    fp = int(((y==0)&(yhat==1)).sum())\n",
        "    fn = int(((y==1)&(yhat==0)).sum())\n",
        "    tn = int(((y==0)&(yhat==0)).sum())\n",
        "    return {\"TP\":tp,\"FP\":fp,\"FN\":fn,\"TN\":tn}\n",
        "\n",
        "for i, lab in enumerate(LABELS):\n",
        "    cm = confusion(labels[:,i].astype(int), pred01_tuned[:,i].astype(int))\n",
        "    print(lab, cm)\n"
      ],
      "metadata": {
        "colab": {
          "base_uri": "https://localhost:8080/"
        },
        "id": "VVsbrAjN2-Iv",
        "outputId": "f5f3f7be-341a-48d8-84dd-b3ba3b3ba0f2"
      },
      "execution_count": 29,
      "outputs": [
        {
          "output_type": "stream",
          "name": "stdout",
          "text": [
            "toxic {'TP': 647, 'FP': 168, 'FN': 126, 'TN': 7038}\n",
            "severe_toxic {'TP': 53, 'FP': 72, 'FN': 23, 'TN': 7831}\n",
            "obscene {'TP': 368, 'FP': 86, 'FN': 68, 'TN': 7457}\n",
            "threat {'TP': 6, 'FP': 32, 'FN': 9, 'TN': 7932}\n",
            "insult {'TP': 325, 'FP': 127, 'FN': 80, 'TN': 7447}\n",
            "identity_hate {'TP': 31, 'FP': 68, 'FN': 36, 'TN': 7844}\n"
          ]
        }
      ]
    },
    {
      "cell_type": "code",
      "source": [
        "rng = np.random.default_rng(123)\n",
        "B = 1000\n",
        "idx = np.arange(N)\n",
        "f1s = []\n",
        "for _ in range(B):\n",
        "    s = rng.choice(idx, size=N, replace=True)\n",
        "    f1,_macro,_ = f1_micro_macro(labels[s].astype(int), pred01_tuned[s].astype(int))\n",
        "    f1s.append(f1)\n",
        "lo, hi = np.percentile(f1s, [2.5, 97.5])\n",
        "print(f\"micro-F1 tuned: {f1_micro_tuned:.4f} (95% CI {lo:.4f}–{hi:.4f})\")\n"
      ],
      "metadata": {
        "colab": {
          "base_uri": "https://localhost:8080/"
        },
        "id": "lSPzyrTS3ASJ",
        "outputId": "8bf966c7-4cbe-4619-d6de-ae52c7747de5"
      },
      "execution_count": 30,
      "outputs": [
        {
          "output_type": "stream",
          "name": "stdout",
          "text": [
            "micro-F1 tuned: 0.7617 (95% CI 0.7453–0.7780)\n"
          ]
        }
      ]
    },
    {
      "cell_type": "code",
      "source": [
        "def top_examples(label_idx, k=5):\n",
        "    # margin = distance from threshold; helpful to see close calls\n",
        "    thr = thr_vec[label_idx]\n",
        "    p = probs[:,label_idx]\n",
        "    y = labels[:,label_idx].astype(int)\n",
        "    # False positives (pred=1, true=0)\n",
        "    fp_idx = np.where((p>=thr) & (y==0))[0]\n",
        "    # False negatives (pred=0, true=1)\n",
        "    fn_idx = np.where((p<thr) & (y==1))[0]\n",
        "\n",
        "    fps = sorted(fp_idx, key=lambda i: -(p[i]-thr))[:k]\n",
        "    fns = sorted(fn_idx, key=lambda i: -(thr-p[i]))[:k]\n",
        "    return fps, fns\n",
        "\n",
        "for j, lab in enumerate(LABELS):\n",
        "    fps, fns = top_examples(j, k=3)\n",
        "    print(f\"\\n=== {lab} — Top FP ===\")\n",
        "    for i in fps:\n",
        "        print(f\"p={probs[i,j]:.2f} | text={raw_texts[i][:140]}\")\n",
        "    print(f\"=== {lab} — Top FN ===\")\n",
        "    for i in fns:\n",
        "        print(f\"p={probs[i,j]:.2f} | text={raw_texts[i][:140]}\")\n"
      ],
      "metadata": {
        "colab": {
          "base_uri": "https://localhost:8080/"
        },
        "id": "UN4jaSuN3Lcl",
        "outputId": "d6a6ad83-61c5-4c97-d1a6-a9a076e63164"
      },
      "execution_count": 31,
      "outputs": [
        {
          "output_type": "stream",
          "name": "stdout",
          "text": [
            "\n",
            "=== toxic — Top FP ===\n",
            "p=0.98 | text=as for the ' blethering scot ' shite you can gtf. you support york shitty.\n",
            "p=0.97 | text=space after period you bucket head. suck to much carbon monoxide? 207. 69. 139. 142\n",
            "p=0.97 | text=\" well, why didn ' t you point this out in the first place instead of acting like a nutcase and telling me i ' m \" \" censoring \" \" things? s\n",
            "=== toxic — Top FN ===\n",
            "p=0.00 | text=\" : it is neither more historically correct, nor more professional. scholars routinely use the term \" \" nazi \" \". you cite the encyclopedia \n",
            "p=0.01 | text=middle finger at the april 10 edition of raw, chris mordetsky was about to give the master lock on carlito but i think he stuck his middle f\n",
            "p=0.01 | text=upskirting i enjoy looking up women ' s skirts.\n",
            "\n",
            "=== severe_toxic — Top FP ===\n",
            "p=0.65 | text=go fuck yourself you fucking dick go rot in hell piece of crap your mother is a whore\n",
            "p=0.65 | text=go fuck yourself you mother fucking cunt.\n",
            "p=0.64 | text=prepare you are the biggest cock sucking mother fucker on the history of the earth you can go fuck yourself, your mom, your dad and your sib\n",
            "=== severe_toxic — Top FN ===\n",
            "p=0.01 | text=you ' re so idi. o. t, so st. u. p. id guy, fu. c. k. i. n. g portuguese, i ha. te the portugueses\n",
            "p=0.03 | text=awww how come you took off all of your discussion posts? don ' t want anyone to know how much of an uptight, anal retentive, faggot you are?\n",
            "p=0.04 | text=u made ur damn personal attacks when u called me a vandal bud. all i did was update it. if u dun like how i write u can rewrite it but dont \n",
            "\n",
            "=== obscene — Top FP ===\n",
            "p=0.97 | text=you enjoy taking dick in the ass d\n",
            "p=0.97 | text=, 12 august 2012 ( utc ) nickelodeon workers, you are conniving, greedy - ass shitcans that don ' t give a damned fuck about anything more t\n",
            "p=0.96 | text=\" hello, \" \" erik, \" \" or whatever your name is. now, if you are done whining like a little bitch, please either kindly contribute to the en\n",
            "=== obscene — Top FN ===\n",
            "p=0.00 | text=\" = = = = hi! you might be interested in the discussion at. thank you. spanish heraldry as a respected contributor to the above article, you\n",
            "p=0.01 | text=\" wth? my own user page... go \" \" f - bomb \" \" yourself... free speech and all. i was removing content from my page that was the result of t\n",
            "p=0.01 | text=i believe users and attitudes like him are disruptive to the project. otherwise, anyone who does not bow to the collective consensus ( read \n",
            "\n",
            "=== threat — Top FP ===\n",
            "p=0.13 | text=nigger nigger nigger nigger nigger nigger nigger nigger nigger nigger nigger nigger nigger nigger nigger nigger nigger nigger nigger nigger \n",
            "p=0.11 | text=you filthy, stinking crow! i am back! dirty crow! you better delete ( or if not, support the deletion ) of all photos of human private parts\n",
            "p=0.11 | text=absolutely the most fucking horrible film ever. ever!!! please fucking die if you like this film. just die.\n",
            "=== threat — Top FN ===\n",
            "p=0.01 | text=unban this ip address or a new online encyclopedia will be formed that will kick wikipedia ' s ass. you have been warned teeeccccctooooniiii\n",
            "p=0.02 | text=bush nuke iran!!! it is arabian gulf stupid persians!!!! i wanna see britney spears ruling iran and i hope it will be soon inshallah.. we su\n",
            "p=0.02 | text=and to the party who fucks me, fuck u! i ' ll be back here in five minutes and hopefully yandman ' s head wheel be cleaning my ass and his b\n",
            "\n",
            "=== insult — Top FP ===\n",
            "p=0.95 | text=yes, you are a faggot!!!! bitch ass motherfucker!!!!! yes, you are a faggot!!!! bitch ass motherfucker!!!!! yes, you are a faggot!!!! bitch \n",
            "p=0.92 | text=listen you cock monger, i know all about regal cinemas and their ass scratching managers so dont tell me what i did was vandalism you are va\n",
            "p=0.91 | text=aw, you ' re so sweet! too bad your a slutty panda hooker!! go suck a cock!!\n",
            "=== insult — Top FN ===\n",
            "p=0.00 | text=\" = = = = hi! you might be interested in the discussion at. thank you. spanish heraldry as a respected contributor to the above article, you\n",
            "p=0.00 | text=how on earth is it vandalism when i ' m correcting a mistake, are you even listening or am i talking to a brick wall?\n",
            "p=0.01 | text=no follow the rules loser\n",
            "\n",
            "=== identity_hate — Top FP ===\n",
            "p=0.34 | text=shutup [ [ who u think u is you gay nobody thats why you got that userbox your orientation doesn ' t affect you cuz you tried to sleep with \n",
            "p=0.32 | text=gay = = gay here. how do u view men kissing men? = =\n",
            "p=0.32 | text=oshwah is a goat molesting cunt.\n",
            "=== identity_hate — Top FN ===\n",
            "p=0.01 | text=it doesn ' t matter what i think. i ' m a big retarded antisemite. i ' m - a go throw myself in front of an sixteen - wheeler with the grill\n",
            "p=0.01 | text=civility : stop editing other peoples post for minor reasons. there are real civility issues out there like i am keeping this bit of filth f\n",
            "p=0.01 | text=a message to you shadeed hi, n! gger!\n"
          ]
        }
      ]
    },
    {
      "cell_type": "code",
      "source": [
        "lens = np.array([len(t.split()) for t in raw_texts])\n",
        "bins = [0, 5, 15, 40, 1_000]\n",
        "names = [\"≤5\", \"6–15\", \"16–40\", \"41+\"]\n",
        "\n",
        "for b0,b1,name in zip(bins[:-1], bins[1:], names):\n",
        "    m = (lens> b0) & (lens<= b1)\n",
        "    if m.sum()==0: continue\n",
        "    f1_mi, f1_ma, _ = f1_micro_macro(labels[m].astype(int), pred01_tuned[m].astype(int))\n",
        "    print(f\"{name:>6} words | n={int(m.sum()):>5} | micro-F1={f1_mi:.4f} | macro-F1={f1_ma:.4f}\")\n"
      ],
      "metadata": {
        "colab": {
          "base_uri": "https://localhost:8080/"
        },
        "id": "dzHE4--o3OeD",
        "outputId": "46139da8-3ea1-4439-be13-7f464a79fde0"
      },
      "execution_count": 32,
      "outputs": [
        {
          "output_type": "stream",
          "name": "stdout",
          "text": [
            "    ≤5 words | n=  198 | micro-F1=0.8288 | macro-F1=0.5816\n",
            "  6–15 words | n= 1365 | micro-F1=0.7736 | macro-F1=0.6050\n",
            " 16–40 words | n= 2388 | micro-F1=0.7988 | macro-F1=0.5978\n",
            "   41+ words | n= 4028 | micro-F1=0.6889 | macro-F1=0.5492\n"
          ]
        }
      ]
    },
    {
      "cell_type": "code",
      "source": [
        "import json, os, datetime as dt\n",
        "\n",
        "OUT_ADAPTER = \"/content/toxic_lora\"\n",
        "os.makedirs(OUT_ADAPTER, exist_ok=True)\n",
        "\n",
        "with open(f\"{OUT_ADAPTER}/thresholds.json\",\"w\") as f:\n",
        "    json.dump({\"thresholds\": {k: float(v) for k,v in zip(LABELS, thr_vec)}}, f)\n",
        "\n",
        "report = [\n",
        "    f\"# Eval summary — {dt.datetime.utcnow().strftime('%Y-%m-%d %H:%M UTC')}\",\n",
        "    f\"- N val: {N}\",\n",
        "    f\"- Prevalence: { {k: round(float(v),4) for k,v in zip(LABELS, prev)} }\",\n",
        "    f\"- AUPRC: { {k: round(auprc[k],4) for k in LABELS} }\",\n",
        "    f\"- F1 micro (0.5): {round(f1_micro,4)} | macro (0.5): {round(f1_macro,4)}\",\n",
        "    f\"- F1 micro (tuned): {round(f1_micro_tuned,4)} | macro (tuned): {round(f1_macro_tuned,4)}\",\n",
        "    f\"- Tuned thresholds: { {k: float(v) for k,v in zip(LABELS, thr_vec)} }\",\n",
        "]\n",
        "open(\"/content/eval_summary.md\",\"w\").write(\"\\n\".join(report))\n",
        "print(\"Wrote /content/eval_summary.md and thresholds.json\")\n"
      ],
      "metadata": {
        "colab": {
          "base_uri": "https://localhost:8080/"
        },
        "id": "ehYqc-Zr3ZPk",
        "outputId": "87dff41a-2341-442f-9bdb-a10bc1aec69a"
      },
      "execution_count": 33,
      "outputs": [
        {
          "output_type": "stream",
          "name": "stdout",
          "text": [
            "Wrote /content/eval_summary.md and thresholds.json\n"
          ]
        },
        {
          "output_type": "stream",
          "name": "stderr",
          "text": [
            "/tmp/ipython-input-3500878392.py:10: DeprecationWarning: datetime.datetime.utcnow() is deprecated and scheduled for removal in a future version. Use timezone-aware objects to represent datetimes in UTC: datetime.datetime.now(datetime.UTC).\n",
            "  f\"# Eval summary — {dt.datetime.utcnow().strftime('%Y-%m-%d %H:%M UTC')}\",\n"
          ]
        }
      ]
    },
    {
      "cell_type": "code",
      "source": [
        "# === Confusion Matrices for multi-label toxicity (validation set) ===\n",
        "# - Per-label 2x2 confusion matrices (TN, FP / FN, TP)\n",
        "# - One micro-aggregated confusion matrix across all labels\n",
        "# - Saves PNGs to /content/\n",
        "\n",
        "import os, json, numpy as np, torch\n",
        "import matplotlib.pyplot as plt\n",
        "from sklearn.metrics import confusion_matrix\n",
        "\n",
        "# ---- Fallbacks if notebook vars aren't in memory ----\n",
        "ADAPTER_DIR = \"/content/toxic_lora\"\n",
        "def _device():\n",
        "    return torch.device(\"cuda\" if torch.cuda.is_available() else \"cpu\")\n",
        "\n",
        "need_collect = False\n",
        "if 'model' not in globals() or 'tok' not in globals() or 'valid_dl' not in globals():\n",
        "    # Try to reload the LoRA model/adapter to compute logits on valid_dl-like data\n",
        "    # (If you truly don't have valid_dl, you can't draw a confusion matrix without labels.)\n",
        "    raise RuntimeError(\"Need model/tok/valid_dl in memory to compute confusion matrices.\")\n",
        "\n",
        "# Labels list\n",
        "if 'LABELS' not in globals():\n",
        "    labels_path = os.path.join(ADAPTER_DIR, \"labels.json\")\n",
        "    assert os.path.exists(labels_path), \"LABELS missing and no labels.json found.\"\n",
        "    LABELS = json.load(open(labels_path))[\"labels\"]\n",
        "\n",
        "# Thresholds (optional)\n",
        "thr = {k: 0.5 for k in LABELS}\n",
        "thr_path = os.path.join(ADAPTER_DIR, \"thresholds.json\")\n",
        "if os.path.exists(thr_path):\n",
        "    try:\n",
        "        thr = json.load(open(thr_path))[\"thresholds\"]\n",
        "    except Exception:\n",
        "        pass\n",
        "thr_vec = np.array([thr[k] for k in LABELS], dtype=np.float32)\n",
        "\n",
        "# ---- Collect logits & labels from your validation DataLoader ----\n",
        "model.eval()\n",
        "dev = next(model.parameters()).device\n",
        "all_logits, all_labels = [], []\n",
        "with torch.no_grad():\n",
        "    for batch in valid_dl:\n",
        "        y = batch[\"labels\"].numpy()\n",
        "        b = {k: v.to(dev) for k, v in batch.items() if k != \"labels\"}\n",
        "        lg = model(**b).logits.detach().cpu().numpy()\n",
        "        all_logits.append(lg); all_labels.append(y)\n",
        "\n",
        "logits = np.concatenate(all_logits, axis=0)           # (N, C)\n",
        "labels = np.concatenate(all_labels, axis=0).astype(int)  # (N, C)\n",
        "probs  = 1.0 / (1.0 + np.exp(-logits))\n",
        "preds  = (probs >= thr_vec[None, :]).astype(int)\n",
        "\n",
        "N, C = labels.shape\n",
        "print(f\"Validation examples: {N}, labels: {C} -> {LABELS}\")\n",
        "\n",
        "# ---- Per-label confusion matrices ----\n",
        "cms = []\n",
        "for i, lab in enumerate(LABELS):\n",
        "    cm = confusion_matrix(labels[:, i], preds[:, i], labels=[0,1])\n",
        "    # sklearn order: [[TN, FP],[FN, TP]]\n",
        "    cms.append(cm)\n",
        "    tn, fp, fn, tp = cm.ravel()\n",
        "    print(f\"{lab:>14}: TN={tn:6d}  FP={fp:6d}  FN={fn:6d}  TP={tp:6d}\")\n",
        "\n",
        "# ---- Plot per-label confusion matrices in a grid ----\n",
        "import math\n",
        "cols = 3\n",
        "rows = math.ceil(C / cols)\n",
        "fig, axes = plt.subplots(rows, cols, figsize=(cols*4, rows*4))\n",
        "if rows == 1 and cols == 1:\n",
        "    axes = np.array([[axes]])\n",
        "elif rows == 1:\n",
        "    axes = np.array([axes])\n",
        "\n",
        "for i, lab in enumerate(LABELS):\n",
        "    r, c = divmod(i, cols)\n",
        "    ax = axes[r, c]\n",
        "    cm = cms[i]\n",
        "    im = ax.imshow(cm, interpolation=\"nearest\")\n",
        "    ax.set_title(lab)\n",
        "    # annotate\n",
        "    for (rr, cc), val in np.ndenumerate(cm):\n",
        "        ax.text(cc, rr, str(val), ha=\"center\", va=\"center\")\n",
        "    ax.set_xticks([0,1]); ax.set_xticklabels([\"Pred 0\",\"Pred 1\"])\n",
        "    ax.set_yticks([0,1]); ax.set_yticklabels([\"True 0\",\"True 1\"])\n",
        "    ax.set_xlabel(\"Predicted\"); ax.set_ylabel(\"True\")\n",
        "\n",
        "# hide any empty subplots\n",
        "for j in range(C, rows*cols):\n",
        "    r, c = divmod(j, cols)\n",
        "    axes[r, c].axis(\"off\")\n",
        "\n",
        "fig.tight_layout()\n",
        "plt.show()\n",
        "fig.savefig(\"/content/confusion_per_label.png\", dpi=150)\n",
        "print(\"Saved: /content/confusion_per_label.png\")\n",
        "\n",
        "# ---- Micro-aggregated confusion matrix (flatten across labels) ----\n",
        "y_true_flat = labels.reshape(-1)\n",
        "y_pred_flat = preds.reshape(-1)\n",
        "cm_micro = confusion_matrix(y_true_flat, y_pred_flat, labels=[0,1])\n",
        "print(\"\\nMicro-aggregated CM (all labels flattened):\")\n",
        "tn, fp, fn, tp = cm_micro.ravel()\n",
        "print(f\"TN={tn}  FP={fp}  FN={fn}  TP={tp}\")\n",
        "\n",
        "plt.figure(figsize=(4,4))\n",
        "im = plt.imshow(cm_micro, interpolation=\"nearest\")\n",
        "for (rr, cc), val in np.ndenumerate(cm_micro):\n",
        "    plt.text(cc, rr, str(val), ha=\"center\", va=\"center\")\n",
        "plt.xticks([0,1], [\"Pred 0\",\"Pred 1\"])\n",
        "plt.yticks([0,1], [\"True 0\",\"True 1\"])\n",
        "plt.xlabel(\"Predicted\"); plt.ylabel(\"True\"); plt.title(\"Micro Confusion Matrix\")\n",
        "plt.tight_layout()\n",
        "plt.show()\n",
        "plt.savefig(\"/content/confusion_micro.png\", dpi=150)\n",
        "print(\"Saved: /content/confusion_micro.png\")\n"
      ],
      "metadata": {
        "colab": {
          "base_uri": "https://localhost:8080/",
          "height": 1000
        },
        "id": "Nilzd4cb3bKw",
        "outputId": "6bbf2a6b-b87a-4783-9c7a-8bebc09e9bec"
      },
      "execution_count": 34,
      "outputs": [
        {
          "output_type": "stream",
          "name": "stdout",
          "text": [
            "Validation examples: 7979, labels: 6 -> ['toxic', 'severe_toxic', 'obscene', 'threat', 'insult', 'identity_hate']\n",
            "         toxic: TN=  7038  FP=   168  FN=   126  TP=   647\n",
            "  severe_toxic: TN=  7831  FP=    72  FN=    23  TP=    53\n",
            "       obscene: TN=  7457  FP=    86  FN=    68  TP=   368\n",
            "        threat: TN=  7932  FP=    32  FN=     9  TP=     6\n",
            "        insult: TN=  7447  FP=   127  FN=    80  TP=   325\n",
            " identity_hate: TN=  7844  FP=    68  FN=    36  TP=    31\n"
          ]
        },
        {
          "output_type": "display_data",
          "data": {
            "text/plain": [
              "<Figure size 1200x800 with 6 Axes>"
            ],
            "image/png": "[encoded data removed]"
          },
          "metadata": {}
        },
        {
          "output_type": "stream",
          "name": "stdout",
          "text": [
            "Saved: /content/confusion_per_label.png\n",
            "\n",
            "Micro-aggregated CM (all labels flattened):\n",
            "TN=45549  FP=553  FN=342  TP=1430\n"
          ]
        },
        {
          "output_type": "display_data",
          "data": {
            "text/plain": [
              "<Figure size 400x400 with 1 Axes>"
            ],
            "image/png": "[encoded data removed]"
          },
          "metadata": {}
        },
        {
          "output_type": "stream",
          "name": "stdout",
          "text": [
            "Saved: /content/confusion_micro.png\n"
          ]
        },
        {
          "output_type": "display_data",
          "data": {
            "text/plain": [
              "<Figure size 640x480 with 0 Axes>"
            ]
          },
          "metadata": {}
        }
      ]
    },
    {
      "cell_type": "code",
      "source": [],
      "metadata": {
        "id": "lLMGOkLr48zt"
      },
      "execution_count": null,
      "outputs": []
    }
  ]
}